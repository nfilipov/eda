{
 "cells": [
  {
   "cell_type": "code",
   "execution_count": 278,
   "metadata": {},
   "outputs": [
    {
     "data": {
      "text/html": [
       "<div>\n",
       "<style scoped>\n",
       "    .dataframe tbody tr th:only-of-type {\n",
       "        vertical-align: middle;\n",
       "    }\n",
       "\n",
       "    .dataframe tbody tr th {\n",
       "        vertical-align: top;\n",
       "    }\n",
       "\n",
       "    .dataframe thead th {\n",
       "        text-align: right;\n",
       "    }\n",
       "</style>\n",
       "<table border=\"1\" class=\"dataframe\">\n",
       "  <thead>\n",
       "    <tr style=\"text-align: right;\">\n",
       "      <th></th>\n",
       "      <th>id_election</th>\n",
       "      <th>id_brut_miom</th>\n",
       "      <th>Code du département</th>\n",
       "      <th>Code de la commune</th>\n",
       "      <th>Code du b.vote</th>\n",
       "      <th>N°Panneau</th>\n",
       "      <th>Libellé Abrégé Liste</th>\n",
       "      <th>Libellé Etendu Liste</th>\n",
       "      <th>Nom Tête de Liste</th>\n",
       "      <th>Voix</th>\n",
       "      <th>% Voix/Ins</th>\n",
       "      <th>% Voix/Exp</th>\n",
       "      <th>Sexe</th>\n",
       "      <th>Nom</th>\n",
       "      <th>Prénom</th>\n",
       "      <th>Nuance</th>\n",
       "      <th>Binôme</th>\n",
       "      <th>Liste</th>\n",
       "    </tr>\n",
       "  </thead>\n",
       "  <tbody>\n",
       "    <tr>\n",
       "      <th>7759</th>\n",
       "      <td>2019_euro_t1</td>\n",
       "      <td>14001_0001</td>\n",
       "      <td>14</td>\n",
       "      <td>001</td>\n",
       "      <td>0001</td>\n",
       "      <td>1.0</td>\n",
       "      <td>LA FRANCE INSOUMISE</td>\n",
       "      <td>LA FRANCE INSOUMISE</td>\n",
       "      <td>AUBRY Manon</td>\n",
       "      <td>28.0</td>\n",
       "      <td>2.94</td>\n",
       "      <td>5.30</td>\n",
       "      <td>None</td>\n",
       "      <td>None</td>\n",
       "      <td>None</td>\n",
       "      <td>None</td>\n",
       "      <td>None</td>\n",
       "      <td>None</td>\n",
       "    </tr>\n",
       "    <tr>\n",
       "      <th>7760</th>\n",
       "      <td>2019_euro_t1</td>\n",
       "      <td>14003_0001</td>\n",
       "      <td>14</td>\n",
       "      <td>003</td>\n",
       "      <td>0001</td>\n",
       "      <td>1.0</td>\n",
       "      <td>LA FRANCE INSOUMISE</td>\n",
       "      <td>LA FRANCE INSOUMISE</td>\n",
       "      <td>AUBRY Manon</td>\n",
       "      <td>10.0</td>\n",
       "      <td>4.46</td>\n",
       "      <td>7.58</td>\n",
       "      <td>None</td>\n",
       "      <td>None</td>\n",
       "      <td>None</td>\n",
       "      <td>None</td>\n",
       "      <td>None</td>\n",
       "      <td>None</td>\n",
       "    </tr>\n",
       "    <tr>\n",
       "      <th>7761</th>\n",
       "      <td>2019_euro_t1</td>\n",
       "      <td>14005_0001</td>\n",
       "      <td>14</td>\n",
       "      <td>005</td>\n",
       "      <td>0001</td>\n",
       "      <td>1.0</td>\n",
       "      <td>LA FRANCE INSOUMISE</td>\n",
       "      <td>LA FRANCE INSOUMISE</td>\n",
       "      <td>AUBRY Manon</td>\n",
       "      <td>21.0</td>\n",
       "      <td>4.16</td>\n",
       "      <td>7.39</td>\n",
       "      <td>None</td>\n",
       "      <td>None</td>\n",
       "      <td>None</td>\n",
       "      <td>None</td>\n",
       "      <td>None</td>\n",
       "      <td>None</td>\n",
       "    </tr>\n",
       "    <tr>\n",
       "      <th>7762</th>\n",
       "      <td>2019_euro_t1</td>\n",
       "      <td>14005_0002</td>\n",
       "      <td>14</td>\n",
       "      <td>005</td>\n",
       "      <td>0002</td>\n",
       "      <td>1.0</td>\n",
       "      <td>LA FRANCE INSOUMISE</td>\n",
       "      <td>LA FRANCE INSOUMISE</td>\n",
       "      <td>AUBRY Manon</td>\n",
       "      <td>12.0</td>\n",
       "      <td>4.62</td>\n",
       "      <td>8.45</td>\n",
       "      <td>None</td>\n",
       "      <td>None</td>\n",
       "      <td>None</td>\n",
       "      <td>None</td>\n",
       "      <td>None</td>\n",
       "      <td>None</td>\n",
       "    </tr>\n",
       "    <tr>\n",
       "      <th>7763</th>\n",
       "      <td>2019_euro_t1</td>\n",
       "      <td>14005_0003</td>\n",
       "      <td>14</td>\n",
       "      <td>005</td>\n",
       "      <td>0003</td>\n",
       "      <td>1.0</td>\n",
       "      <td>LA FRANCE INSOUMISE</td>\n",
       "      <td>LA FRANCE INSOUMISE</td>\n",
       "      <td>AUBRY Manon</td>\n",
       "      <td>1.0</td>\n",
       "      <td>1.54</td>\n",
       "      <td>3.45</td>\n",
       "      <td>None</td>\n",
       "      <td>None</td>\n",
       "      <td>None</td>\n",
       "      <td>None</td>\n",
       "      <td>None</td>\n",
       "      <td>None</td>\n",
       "    </tr>\n",
       "  </tbody>\n",
       "</table>\n",
       "</div>"
      ],
      "text/plain": [
       "       id_election id_brut_miom Code du département Code de la commune  \\\n",
       "7759  2019_euro_t1   14001_0001                  14                001   \n",
       "7760  2019_euro_t1   14003_0001                  14                003   \n",
       "7761  2019_euro_t1   14005_0001                  14                005   \n",
       "7762  2019_euro_t1   14005_0002                  14                005   \n",
       "7763  2019_euro_t1   14005_0003                  14                005   \n",
       "\n",
       "     Code du b.vote  N°Panneau Libellé Abrégé Liste Libellé Etendu Liste  \\\n",
       "7759           0001        1.0  LA FRANCE INSOUMISE  LA FRANCE INSOUMISE   \n",
       "7760           0001        1.0  LA FRANCE INSOUMISE  LA FRANCE INSOUMISE   \n",
       "7761           0001        1.0  LA FRANCE INSOUMISE  LA FRANCE INSOUMISE   \n",
       "7762           0002        1.0  LA FRANCE INSOUMISE  LA FRANCE INSOUMISE   \n",
       "7763           0003        1.0  LA FRANCE INSOUMISE  LA FRANCE INSOUMISE   \n",
       "\n",
       "     Nom Tête de Liste  Voix  % Voix/Ins  % Voix/Exp  Sexe   Nom Prénom  \\\n",
       "7759       AUBRY Manon  28.0        2.94        5.30  None  None   None   \n",
       "7760       AUBRY Manon  10.0        4.46        7.58  None  None   None   \n",
       "7761       AUBRY Manon  21.0        4.16        7.39  None  None   None   \n",
       "7762       AUBRY Manon  12.0        4.62        8.45  None  None   None   \n",
       "7763       AUBRY Manon   1.0        1.54        3.45  None  None   None   \n",
       "\n",
       "     Nuance Binôme Liste  \n",
       "7759   None   None  None  \n",
       "7760   None   None  None  \n",
       "7761   None   None  None  \n",
       "7762   None   None  None  \n",
       "7763   None   None  None  "
      ]
     },
     "execution_count": 278,
     "metadata": {},
     "output_type": "execute_result"
    }
   ],
   "source": [
    "import pandas as pd\n",
    "\n",
    "def clean_data(df):\n",
    "    # Filter rows based on column: 'Code du département'\n",
    "    df = df[(df['Code du département'] == \"27\") | (df['Code du département'] == \"76\") | (df['Code du département'] == \"61\") | (df['Code du département'] == \"50\") | (df['Code du département'] == \"14\")]\n",
    "    return df\n",
    "\n",
    "# Loaded variable 'df' from URI: /Users/newuser/data/elections/raw/candidats_results.parquet\n",
    "df = pd.read_parquet(r'/Users/newuser/data/elections/raw/candidats_results.parquet')\n",
    "\n",
    "df_clean = clean_data(df.copy())\n",
    "df_clean.head()\n"
   ]
  },
  {
   "cell_type": "markdown",
   "metadata": {},
   "source": [
    "Maintenant on filtre le dataset pour se limiter aux élections depuis 2022"
   ]
  },
  {
   "cell_type": "code",
   "execution_count": 282,
   "metadata": {},
   "outputs": [
    {
     "data": {
      "text/html": [
       "<div>\n",
       "<style scoped>\n",
       "    .dataframe tbody tr th:only-of-type {\n",
       "        vertical-align: middle;\n",
       "    }\n",
       "\n",
       "    .dataframe tbody tr th {\n",
       "        vertical-align: top;\n",
       "    }\n",
       "\n",
       "    .dataframe thead th {\n",
       "        text-align: right;\n",
       "    }\n",
       "</style>\n",
       "<table border=\"1\" class=\"dataframe\">\n",
       "  <thead>\n",
       "    <tr style=\"text-align: right;\">\n",
       "      <th></th>\n",
       "      <th>id_election</th>\n",
       "      <th>id_brut_miom</th>\n",
       "      <th>Code du département</th>\n",
       "      <th>Code de la commune</th>\n",
       "      <th>Code du b.vote</th>\n",
       "      <th>N°Panneau</th>\n",
       "      <th>Libellé Abrégé Liste</th>\n",
       "      <th>Libellé Etendu Liste</th>\n",
       "      <th>Nom Tête de Liste</th>\n",
       "      <th>Voix</th>\n",
       "      <th>% Voix/Ins</th>\n",
       "      <th>% Voix/Exp</th>\n",
       "      <th>Sexe</th>\n",
       "      <th>Nom</th>\n",
       "      <th>Prénom</th>\n",
       "      <th>Nuance</th>\n",
       "      <th>Binôme</th>\n",
       "      <th>Liste</th>\n",
       "    </tr>\n",
       "  </thead>\n",
       "  <tbody>\n",
       "    <tr>\n",
       "      <th>7759</th>\n",
       "      <td>2019_euro_t1</td>\n",
       "      <td>14001_0001</td>\n",
       "      <td>14</td>\n",
       "      <td>001</td>\n",
       "      <td>0001</td>\n",
       "      <td>1.0</td>\n",
       "      <td>LA FRANCE INSOUMISE</td>\n",
       "      <td>LA FRANCE INSOUMISE</td>\n",
       "      <td>AUBRY Manon</td>\n",
       "      <td>28.0</td>\n",
       "      <td>2.94</td>\n",
       "      <td>5.30</td>\n",
       "      <td>None</td>\n",
       "      <td>None</td>\n",
       "      <td>None</td>\n",
       "      <td>None</td>\n",
       "      <td>None</td>\n",
       "      <td>None</td>\n",
       "    </tr>\n",
       "    <tr>\n",
       "      <th>7760</th>\n",
       "      <td>2019_euro_t1</td>\n",
       "      <td>14003_0001</td>\n",
       "      <td>14</td>\n",
       "      <td>003</td>\n",
       "      <td>0001</td>\n",
       "      <td>1.0</td>\n",
       "      <td>LA FRANCE INSOUMISE</td>\n",
       "      <td>LA FRANCE INSOUMISE</td>\n",
       "      <td>AUBRY Manon</td>\n",
       "      <td>10.0</td>\n",
       "      <td>4.46</td>\n",
       "      <td>7.58</td>\n",
       "      <td>None</td>\n",
       "      <td>None</td>\n",
       "      <td>None</td>\n",
       "      <td>None</td>\n",
       "      <td>None</td>\n",
       "      <td>None</td>\n",
       "    </tr>\n",
       "    <tr>\n",
       "      <th>7761</th>\n",
       "      <td>2019_euro_t1</td>\n",
       "      <td>14005_0001</td>\n",
       "      <td>14</td>\n",
       "      <td>005</td>\n",
       "      <td>0001</td>\n",
       "      <td>1.0</td>\n",
       "      <td>LA FRANCE INSOUMISE</td>\n",
       "      <td>LA FRANCE INSOUMISE</td>\n",
       "      <td>AUBRY Manon</td>\n",
       "      <td>21.0</td>\n",
       "      <td>4.16</td>\n",
       "      <td>7.39</td>\n",
       "      <td>None</td>\n",
       "      <td>None</td>\n",
       "      <td>None</td>\n",
       "      <td>None</td>\n",
       "      <td>None</td>\n",
       "      <td>None</td>\n",
       "    </tr>\n",
       "    <tr>\n",
       "      <th>7762</th>\n",
       "      <td>2019_euro_t1</td>\n",
       "      <td>14005_0002</td>\n",
       "      <td>14</td>\n",
       "      <td>005</td>\n",
       "      <td>0002</td>\n",
       "      <td>1.0</td>\n",
       "      <td>LA FRANCE INSOUMISE</td>\n",
       "      <td>LA FRANCE INSOUMISE</td>\n",
       "      <td>AUBRY Manon</td>\n",
       "      <td>12.0</td>\n",
       "      <td>4.62</td>\n",
       "      <td>8.45</td>\n",
       "      <td>None</td>\n",
       "      <td>None</td>\n",
       "      <td>None</td>\n",
       "      <td>None</td>\n",
       "      <td>None</td>\n",
       "      <td>None</td>\n",
       "    </tr>\n",
       "    <tr>\n",
       "      <th>7763</th>\n",
       "      <td>2019_euro_t1</td>\n",
       "      <td>14005_0003</td>\n",
       "      <td>14</td>\n",
       "      <td>005</td>\n",
       "      <td>0003</td>\n",
       "      <td>1.0</td>\n",
       "      <td>LA FRANCE INSOUMISE</td>\n",
       "      <td>LA FRANCE INSOUMISE</td>\n",
       "      <td>AUBRY Manon</td>\n",
       "      <td>1.0</td>\n",
       "      <td>1.54</td>\n",
       "      <td>3.45</td>\n",
       "      <td>None</td>\n",
       "      <td>None</td>\n",
       "      <td>None</td>\n",
       "      <td>None</td>\n",
       "      <td>None</td>\n",
       "      <td>None</td>\n",
       "    </tr>\n",
       "  </tbody>\n",
       "</table>\n",
       "</div>"
      ],
      "text/plain": [
       "       id_election id_brut_miom Code du département Code de la commune  \\\n",
       "7759  2019_euro_t1   14001_0001                  14                001   \n",
       "7760  2019_euro_t1   14003_0001                  14                003   \n",
       "7761  2019_euro_t1   14005_0001                  14                005   \n",
       "7762  2019_euro_t1   14005_0002                  14                005   \n",
       "7763  2019_euro_t1   14005_0003                  14                005   \n",
       "\n",
       "     Code du b.vote  N°Panneau Libellé Abrégé Liste Libellé Etendu Liste  \\\n",
       "7759           0001        1.0  LA FRANCE INSOUMISE  LA FRANCE INSOUMISE   \n",
       "7760           0001        1.0  LA FRANCE INSOUMISE  LA FRANCE INSOUMISE   \n",
       "7761           0001        1.0  LA FRANCE INSOUMISE  LA FRANCE INSOUMISE   \n",
       "7762           0002        1.0  LA FRANCE INSOUMISE  LA FRANCE INSOUMISE   \n",
       "7763           0003        1.0  LA FRANCE INSOUMISE  LA FRANCE INSOUMISE   \n",
       "\n",
       "     Nom Tête de Liste  Voix  % Voix/Ins  % Voix/Exp  Sexe   Nom Prénom  \\\n",
       "7759       AUBRY Manon  28.0        2.94        5.30  None  None   None   \n",
       "7760       AUBRY Manon  10.0        4.46        7.58  None  None   None   \n",
       "7761       AUBRY Manon  21.0        4.16        7.39  None  None   None   \n",
       "7762       AUBRY Manon  12.0        4.62        8.45  None  None   None   \n",
       "7763       AUBRY Manon   1.0        1.54        3.45  None  None   None   \n",
       "\n",
       "     Nuance Binôme Liste  \n",
       "7759   None   None  None  \n",
       "7760   None   None  None  \n",
       "7761   None   None  None  \n",
       "7762   None   None  None  \n",
       "7763   None   None  None  "
      ]
     },
     "execution_count": 282,
     "metadata": {},
     "output_type": "execute_result"
    }
   ],
   "source": [
    "def clean_data_since_2019(df):\n",
    "    # filter rows based on column id_election\n",
    "    df = df[(df['id_election'] == \"2019_euro_t1\") | (df['id_election'] == \"2022_pres_t1\") | (df['id_election'] == \"2022_pres_t2\") | (df['id_election'] == \"2022_legi_t1\") | (df['id_election'] == \"2022_legi_t2\") | (df['id_election'] == \"2024_euro_t1\")]\n",
    "    return df\n",
    "\n",
    "df_clean2019 = clean_data_since_2019(df_clean.copy())\n",
    "df_clean2019.head()\n"
   ]
  },
  {
   "cell_type": "markdown",
   "metadata": {},
   "source": [
    "On est passé de 45 secondes de processing à 1s. ça fait du bien. "
   ]
  },
  {
   "cell_type": "code",
   "execution_count": 56,
   "metadata": {},
   "outputs": [
    {
     "data": {
      "text/plain": [
       "Index(['id_election', 'id_brut_miom', 'Code du département',\n",
       "       'Code de la commune', 'Code du b.vote', 'N°Panneau',\n",
       "       'Libellé Abrégé Liste', 'Libellé Etendu Liste', 'Nom Tête de Liste',\n",
       "       'Voix', '% Voix/Ins', '% Voix/Exp', 'Sexe', 'Nom', 'Prénom', 'Nuance',\n",
       "       'Binôme', 'Liste'],\n",
       "      dtype='object')"
      ]
     },
     "execution_count": 56,
     "metadata": {},
     "output_type": "execute_result"
    }
   ],
   "source": [
    "df_clean2019.keys()"
   ]
  },
  {
   "cell_type": "code",
   "execution_count": 57,
   "metadata": {},
   "outputs": [
    {
     "name": "stdout",
     "output_type": "stream",
     "text": [
      "{'id_election': dtype('O'), 'id_brut_miom': dtype('O'), 'Code du département': dtype('O'), 'Code de la commune': dtype('O'), 'Code du b.vote': dtype('O'), 'N°Panneau': dtype('float64'), 'Libellé Abrégé Liste': dtype('O'), 'Libellé Etendu Liste': dtype('O'), 'Nom Tête de Liste': dtype('O'), 'Voix': dtype('float64'), '% Voix/Ins': dtype('float32'), '% Voix/Exp': dtype('float32'), 'Sexe': dtype('O'), 'Nom': dtype('O'), 'Prénom': dtype('O'), 'Nuance': dtype('O'), 'Binôme': dtype('O'), 'Liste': dtype('O')}\n"
     ]
    }
   ],
   "source": [
    "print((df_clean2019.dtypes.to_dict()))\n",
    "#print(list(df_clean2022.dtypes))"
   ]
  },
  {
   "cell_type": "markdown",
   "metadata": {},
   "source": [
    "On sauvegarde le fichier resultats"
   ]
  },
  {
   "cell_type": "code",
   "execution_count": 58,
   "metadata": {},
   "outputs": [],
   "source": [
    "df_clean2019.to_parquet('~/data/elections/eda/2019to2024Europeennes_results_normandie_skim_simple.parquet')"
   ]
  },
  {
   "cell_type": "markdown",
   "metadata": {},
   "source": [
    "Maintenant on ouvre le parquet general_results (pour aller chercher la participation)"
   ]
  },
  {
   "cell_type": "code",
   "execution_count": 59,
   "metadata": {},
   "outputs": [
    {
     "data": {
      "text/html": [
       "<div>\n",
       "<style scoped>\n",
       "    .dataframe tbody tr th:only-of-type {\n",
       "        vertical-align: middle;\n",
       "    }\n",
       "\n",
       "    .dataframe tbody tr th {\n",
       "        vertical-align: top;\n",
       "    }\n",
       "\n",
       "    .dataframe thead th {\n",
       "        text-align: right;\n",
       "    }\n",
       "</style>\n",
       "<table border=\"1\" class=\"dataframe\">\n",
       "  <thead>\n",
       "    <tr style=\"text-align: right;\">\n",
       "      <th></th>\n",
       "      <th>id_election</th>\n",
       "      <th>id_brut_miom</th>\n",
       "      <th>Code du département</th>\n",
       "      <th>Libellé du département</th>\n",
       "      <th>Code de la commune</th>\n",
       "      <th>Libellé de la commune</th>\n",
       "      <th>Code du b.vote</th>\n",
       "      <th>Inscrits</th>\n",
       "      <th>Abstentions</th>\n",
       "      <th>% Abs/Ins</th>\n",
       "      <th>...</th>\n",
       "      <th>Nuls</th>\n",
       "      <th>% Nuls/Ins</th>\n",
       "      <th>% Nuls/Vot</th>\n",
       "      <th>Exprimés</th>\n",
       "      <th>% Exp/Ins</th>\n",
       "      <th>% Exp/Vot</th>\n",
       "      <th>Code de la circonscription</th>\n",
       "      <th>Libellé de la circonscription</th>\n",
       "      <th>Code du canton</th>\n",
       "      <th>Libellé du canton</th>\n",
       "    </tr>\n",
       "  </thead>\n",
       "  <tbody>\n",
       "    <tr>\n",
       "      <th>7759</th>\n",
       "      <td>2019_euro_t1</td>\n",
       "      <td>14001_0001</td>\n",
       "      <td>14</td>\n",
       "      <td>Calvados</td>\n",
       "      <td>001</td>\n",
       "      <td>Ablon</td>\n",
       "      <td>0001</td>\n",
       "      <td>952</td>\n",
       "      <td>405</td>\n",
       "      <td>42.540001</td>\n",
       "      <td>...</td>\n",
       "      <td>7</td>\n",
       "      <td>0.74</td>\n",
       "      <td>1.28</td>\n",
       "      <td>528</td>\n",
       "      <td>55.459999</td>\n",
       "      <td>96.529999</td>\n",
       "      <td>None</td>\n",
       "      <td>None</td>\n",
       "      <td>None</td>\n",
       "      <td>None</td>\n",
       "    </tr>\n",
       "    <tr>\n",
       "      <th>7760</th>\n",
       "      <td>2019_euro_t1</td>\n",
       "      <td>14003_0001</td>\n",
       "      <td>14</td>\n",
       "      <td>Calvados</td>\n",
       "      <td>003</td>\n",
       "      <td>Agy</td>\n",
       "      <td>0001</td>\n",
       "      <td>224</td>\n",
       "      <td>88</td>\n",
       "      <td>39.290001</td>\n",
       "      <td>...</td>\n",
       "      <td>4</td>\n",
       "      <td>1.79</td>\n",
       "      <td>2.94</td>\n",
       "      <td>132</td>\n",
       "      <td>58.930000</td>\n",
       "      <td>97.059998</td>\n",
       "      <td>None</td>\n",
       "      <td>None</td>\n",
       "      <td>None</td>\n",
       "      <td>None</td>\n",
       "    </tr>\n",
       "    <tr>\n",
       "      <th>7761</th>\n",
       "      <td>2019_euro_t1</td>\n",
       "      <td>14005_0001</td>\n",
       "      <td>14</td>\n",
       "      <td>Calvados</td>\n",
       "      <td>005</td>\n",
       "      <td>Valambray</td>\n",
       "      <td>0001</td>\n",
       "      <td>505</td>\n",
       "      <td>203</td>\n",
       "      <td>40.200001</td>\n",
       "      <td>...</td>\n",
       "      <td>16</td>\n",
       "      <td>3.17</td>\n",
       "      <td>5.30</td>\n",
       "      <td>284</td>\n",
       "      <td>56.240002</td>\n",
       "      <td>94.040001</td>\n",
       "      <td>None</td>\n",
       "      <td>None</td>\n",
       "      <td>None</td>\n",
       "      <td>None</td>\n",
       "    </tr>\n",
       "    <tr>\n",
       "      <th>7762</th>\n",
       "      <td>2019_euro_t1</td>\n",
       "      <td>14005_0002</td>\n",
       "      <td>14</td>\n",
       "      <td>Calvados</td>\n",
       "      <td>005</td>\n",
       "      <td>Valambray</td>\n",
       "      <td>0002</td>\n",
       "      <td>260</td>\n",
       "      <td>112</td>\n",
       "      <td>43.080002</td>\n",
       "      <td>...</td>\n",
       "      <td>4</td>\n",
       "      <td>1.54</td>\n",
       "      <td>2.70</td>\n",
       "      <td>142</td>\n",
       "      <td>54.619999</td>\n",
       "      <td>95.949997</td>\n",
       "      <td>None</td>\n",
       "      <td>None</td>\n",
       "      <td>None</td>\n",
       "      <td>None</td>\n",
       "    </tr>\n",
       "    <tr>\n",
       "      <th>7763</th>\n",
       "      <td>2019_euro_t1</td>\n",
       "      <td>14005_0003</td>\n",
       "      <td>14</td>\n",
       "      <td>Calvados</td>\n",
       "      <td>005</td>\n",
       "      <td>Valambray</td>\n",
       "      <td>0003</td>\n",
       "      <td>65</td>\n",
       "      <td>34</td>\n",
       "      <td>52.310001</td>\n",
       "      <td>...</td>\n",
       "      <td>2</td>\n",
       "      <td>3.08</td>\n",
       "      <td>6.45</td>\n",
       "      <td>29</td>\n",
       "      <td>44.619999</td>\n",
       "      <td>93.550003</td>\n",
       "      <td>None</td>\n",
       "      <td>None</td>\n",
       "      <td>None</td>\n",
       "      <td>None</td>\n",
       "    </tr>\n",
       "  </tbody>\n",
       "</table>\n",
       "<p>5 rows × 25 columns</p>\n",
       "</div>"
      ],
      "text/plain": [
       "       id_election id_brut_miom Code du département Libellé du département  \\\n",
       "7759  2019_euro_t1   14001_0001                  14               Calvados   \n",
       "7760  2019_euro_t1   14003_0001                  14               Calvados   \n",
       "7761  2019_euro_t1   14005_0001                  14               Calvados   \n",
       "7762  2019_euro_t1   14005_0002                  14               Calvados   \n",
       "7763  2019_euro_t1   14005_0003                  14               Calvados   \n",
       "\n",
       "     Code de la commune Libellé de la commune Code du b.vote  Inscrits  \\\n",
       "7759                001                 Ablon           0001       952   \n",
       "7760                003                   Agy           0001       224   \n",
       "7761                005             Valambray           0001       505   \n",
       "7762                005             Valambray           0002       260   \n",
       "7763                005             Valambray           0003        65   \n",
       "\n",
       "      Abstentions  % Abs/Ins  ...  Nuls  % Nuls/Ins  % Nuls/Vot  Exprimés  \\\n",
       "7759          405  42.540001  ...     7        0.74        1.28       528   \n",
       "7760           88  39.290001  ...     4        1.79        2.94       132   \n",
       "7761          203  40.200001  ...    16        3.17        5.30       284   \n",
       "7762          112  43.080002  ...     4        1.54        2.70       142   \n",
       "7763           34  52.310001  ...     2        3.08        6.45        29   \n",
       "\n",
       "      % Exp/Ins  % Exp/Vot  Code de la circonscription  \\\n",
       "7759  55.459999  96.529999                        None   \n",
       "7760  58.930000  97.059998                        None   \n",
       "7761  56.240002  94.040001                        None   \n",
       "7762  54.619999  95.949997                        None   \n",
       "7763  44.619999  93.550003                        None   \n",
       "\n",
       "      Libellé de la circonscription  Code du canton  Libellé du canton  \n",
       "7759                           None            None               None  \n",
       "7760                           None            None               None  \n",
       "7761                           None            None               None  \n",
       "7762                           None            None               None  \n",
       "7763                           None            None               None  \n",
       "\n",
       "[5 rows x 25 columns]"
      ]
     },
     "execution_count": 59,
     "metadata": {},
     "output_type": "execute_result"
    }
   ],
   "source": [
    "dfc = pd.read_parquet(r'/Users/newuser/data/elections/raw/general_results.parquet')\n",
    "dfc_clean = clean_data(dfc.copy())\n",
    "dfc_clean2019 = clean_data_since_2019(dfc_clean.copy())\n",
    "dfc_clean2019.head()"
   ]
  },
  {
   "cell_type": "code",
   "execution_count": 60,
   "metadata": {},
   "outputs": [
    {
     "name": "stdout",
     "output_type": "stream",
     "text": [
      "id_election                       object\n",
      "id_brut_miom                      object\n",
      "Code du département               object\n",
      "Libellé du département            object\n",
      "Code de la commune                object\n",
      "Libellé de la commune             object\n",
      "Code du b.vote                    object\n",
      "Inscrits                           int32\n",
      "Abstentions                        int32\n",
      "% Abs/Ins                        float32\n",
      "Votants                            int32\n",
      "% Vot/Ins                        float32\n",
      "Blancs                           float64\n",
      "% Blancs/Ins                     float32\n",
      "% Blancs/Vot                     float32\n",
      "Nuls                               int32\n",
      "% Nuls/Ins                       float32\n",
      "% Nuls/Vot                       float32\n",
      "Exprimés                           int32\n",
      "% Exp/Ins                        float32\n",
      "% Exp/Vot                        float32\n",
      "Code de la circonscription        object\n",
      "Libellé de la circonscription     object\n",
      "Code du canton                    object\n",
      "Libellé du canton                 object\n",
      "dtype: object\n"
     ]
    }
   ],
   "source": [
    "print(dfc_clean2019.dtypes)"
   ]
  },
  {
   "cell_type": "markdown",
   "metadata": {},
   "source": [
    "On sauvegarde maintenant ce fichier"
   ]
  },
  {
   "cell_type": "code",
   "execution_count": 61,
   "metadata": {},
   "outputs": [],
   "source": [
    "dfc_clean2019.to_parquet('~/data/elections/eda/2019to2024Europeennes_participation_normandie_skim_simple.parquet')"
   ]
  },
  {
   "cell_type": "markdown",
   "metadata": {},
   "source": [
    "Meme démarche pour les datasets législatives 2024 - t1 et t2, et candidats t1 et t2 si nécessaire"
   ]
  },
  {
   "cell_type": "code",
   "execution_count": 62,
   "metadata": {},
   "outputs": [
    {
     "name": "stderr",
     "output_type": "stream",
     "text": [
      "/var/folders/gq/3q67kslj5_lb13yn9xswy0740000gn/T/ipykernel_1110/2129404055.py:2: DtypeWarning: Columns (0,2,4,27,36,45,54,63,72,81,90,92,93,94,95,97,98,101,102,103,104,106,107,108,110,111,112,113,115,116,117,119,120,121,122,124,125,128,129,130,131,133,134,137,138,139,140,142,143,146,147,148,149,151,152,155,156,157,158,160,161,164,165,166,167,169,170,173,174,175,176,178,179,182,183,184,185,187,188) have mixed types. Specify dtype option on import or set low_memory=False.\n",
      "  df1 = pd.read_csv(r'/Users/newuser/data/elections/raw/legislatives2024_t1_resultats-definitifs-par-bureau-de-vote.csv',sep=';',decimal=\",\")\n",
      "/var/folders/gq/3q67kslj5_lb13yn9xswy0740000gn/T/ipykernel_1110/2129404055.py:5: DtypeWarning: Columns (0,2,47,48,49,50,52,53) have mixed types. Specify dtype option on import or set low_memory=False.\n",
      "  df2 = pd.read_csv(r'/Users/newuser/data/elections/raw/legislatives2024_t2_resultats-definitifs-par-bureau-de-vote.csv',sep=';',decimal=\",\")\n"
     ]
    },
    {
     "name": "stdout",
     "output_type": "stream",
     "text": [
      "Printing dict 1  \n",
      " {'Code département': dtype('O'), 'Libellé département': dtype('O'), 'Code commune': dtype('O'), 'Libellé commune': dtype('O'), 'Code BV': dtype('O'), 'Inscrits': dtype('int64'), 'Votants': dtype('int64'), '% Votants': dtype('O'), 'Abstentions': dtype('int64'), '% Abstentions': dtype('O'), 'Exprimés': dtype('int64'), '% Exprimés/inscrits': dtype('O'), '% Exprimés/votants': dtype('O'), 'Blancs': dtype('int64'), '% Blancs/inscrits': dtype('O'), '% Blancs/votants': dtype('O'), 'Nuls': dtype('int64'), '% Nuls/inscrits': dtype('O'), '% Nuls/votants': dtype('O'), 'Numéro de panneau 1': dtype('int64'), 'Nuance candidat 1': dtype('O'), 'Nom candidat 1': dtype('O'), 'Prénom candidat 1': dtype('O'), 'Sexe candidat 1': dtype('O'), 'Voix 1': dtype('int64'), '% Voix/inscrits 1': dtype('O'), '% Voix/exprimés 1': dtype('O'), 'Elu 1': dtype('O'), 'Numéro de panneau 2': dtype('int64'), 'Nuance candidat 2': dtype('O'), 'Nom candidat 2': dtype('O'), 'Prénom candidat 2': dtype('O'), 'Sexe candidat 2': dtype('O'), 'Voix 2': dtype('int64'), '% Voix/inscrits 2': dtype('O'), '% Voix/exprimés 2': dtype('O'), 'Elu 2': dtype('O'), 'Numéro de panneau 3': dtype('int64'), 'Nuance candidat 3': dtype('O'), 'Nom candidat 3': dtype('O'), 'Prénom candidat 3': dtype('O'), 'Sexe candidat 3': dtype('O'), 'Voix 3': dtype('int64'), '% Voix/inscrits 3': dtype('O'), '% Voix/exprimés 3': dtype('O'), 'Elu 3': dtype('O'), 'Numéro de panneau 4': dtype('int64'), 'Nuance candidat 4': dtype('O'), 'Nom candidat 4': dtype('O'), 'Prénom candidat 4': dtype('O'), 'Sexe candidat 4': dtype('O'), 'Voix 4': dtype('int64'), '% Voix/inscrits 4': dtype('O'), '% Voix/exprimés 4': dtype('O'), 'Elu 4': dtype('O'), 'Numéro de panneau 5': dtype('float64'), 'Nuance candidat 5': dtype('O'), 'Nom candidat 5': dtype('O'), 'Prénom candidat 5': dtype('O'), 'Sexe candidat 5': dtype('O'), 'Voix 5': dtype('float64'), '% Voix/inscrits 5': dtype('O'), '% Voix/exprimés 5': dtype('O'), 'Elu 5': dtype('O'), 'Numéro de panneau 6': dtype('float64'), 'Nuance candidat 6': dtype('O'), 'Nom candidat 6': dtype('O'), 'Prénom candidat 6': dtype('O'), 'Sexe candidat 6': dtype('O'), 'Voix 6': dtype('float64'), '% Voix/inscrits 6': dtype('O'), '% Voix/exprimés 6': dtype('O'), 'Elu 6': dtype('O'), 'Numéro de panneau 7': dtype('float64'), 'Nuance candidat 7': dtype('O'), 'Nom candidat 7': dtype('O'), 'Prénom candidat 7': dtype('O'), 'Sexe candidat 7': dtype('O'), 'Voix 7': dtype('float64'), '% Voix/inscrits 7': dtype('O'), '% Voix/exprimés 7': dtype('O'), 'Elu 7': dtype('O'), 'Numéro de panneau 8': dtype('float64'), 'Nuance candidat 8': dtype('O'), 'Nom candidat 8': dtype('O'), 'Prénom candidat 8': dtype('O'), 'Sexe candidat 8': dtype('O'), 'Voix 8': dtype('float64'), '% Voix/inscrits 8': dtype('O'), '% Voix/exprimés 8': dtype('O'), 'Elu 8': dtype('O'), 'Numéro de panneau 9': dtype('float64'), 'Nuance candidat 9': dtype('O'), 'Nom candidat 9': dtype('O'), 'Prénom candidat 9': dtype('O'), 'Sexe candidat 9': dtype('O'), 'Voix 9': dtype('float64'), '% Voix/inscrits 9': dtype('O'), '% Voix/exprimés 9': dtype('O'), 'Elu 9': dtype('float64'), 'Numéro de panneau 10': dtype('float64'), 'Nuance candidat 10': dtype('O'), 'Nom candidat 10': dtype('O'), 'Prénom candidat 10': dtype('O'), 'Sexe candidat 10': dtype('O'), 'Voix 10': dtype('float64'), '% Voix/inscrits 10': dtype('O'), '% Voix/exprimés 10': dtype('O'), 'Elu 10': dtype('O'), 'Numéro de panneau 11': dtype('float64'), 'Nuance candidat 11': dtype('O'), 'Nom candidat 11': dtype('O'), 'Prénom candidat 11': dtype('O'), 'Sexe candidat 11': dtype('O'), 'Voix 11': dtype('float64'), '% Voix/inscrits 11': dtype('O'), '% Voix/exprimés 11': dtype('O'), 'Elu 11': dtype('O'), 'Numéro de panneau 12': dtype('float64'), 'Nuance candidat 12': dtype('O'), 'Nom candidat 12': dtype('O'), 'Prénom candidat 12': dtype('O'), 'Sexe candidat 12': dtype('O'), 'Voix 12': dtype('float64'), '% Voix/inscrits 12': dtype('O'), '% Voix/exprimés 12': dtype('O'), 'Elu 12': dtype('float64'), 'Numéro de panneau 13': dtype('float64'), 'Nuance candidat 13': dtype('O'), 'Nom candidat 13': dtype('O'), 'Prénom candidat 13': dtype('O'), 'Sexe candidat 13': dtype('O'), 'Voix 13': dtype('float64'), '% Voix/inscrits 13': dtype('O'), '% Voix/exprimés 13': dtype('O'), 'Elu 13': dtype('float64'), 'Numéro de panneau 14': dtype('float64'), 'Nuance candidat 14': dtype('O'), 'Nom candidat 14': dtype('O'), 'Prénom candidat 14': dtype('O'), 'Sexe candidat 14': dtype('O'), 'Voix 14': dtype('float64'), '% Voix/inscrits 14': dtype('O'), '% Voix/exprimés 14': dtype('O'), 'Elu 14': dtype('float64'), 'Numéro de panneau 15': dtype('float64'), 'Nuance candidat 15': dtype('O'), 'Nom candidat 15': dtype('O'), 'Prénom candidat 15': dtype('O'), 'Sexe candidat 15': dtype('O'), 'Voix 15': dtype('float64'), '% Voix/inscrits 15': dtype('O'), '% Voix/exprimés 15': dtype('O'), 'Elu 15': dtype('float64'), 'Numéro de panneau 16': dtype('float64'), 'Nuance candidat 16': dtype('O'), 'Nom candidat 16': dtype('O'), 'Prénom candidat 16': dtype('O'), 'Sexe candidat 16': dtype('O'), 'Voix 16': dtype('float64'), '% Voix/inscrits 16': dtype('O'), '% Voix/exprimés 16': dtype('O'), 'Elu 16': dtype('float64'), 'Numéro de panneau 17': dtype('float64'), 'Nuance candidat 17': dtype('O'), 'Nom candidat 17': dtype('O'), 'Prénom candidat 17': dtype('O'), 'Sexe candidat 17': dtype('O'), 'Voix 17': dtype('float64'), '% Voix/inscrits 17': dtype('O'), '% Voix/exprimés 17': dtype('O'), 'Elu 17': dtype('float64'), 'Numéro de panneau 18': dtype('float64'), 'Nuance candidat 18': dtype('O'), 'Nom candidat 18': dtype('O'), 'Prénom candidat 18': dtype('O'), 'Sexe candidat 18': dtype('O'), 'Voix 18': dtype('float64'), '% Voix/inscrits 18': dtype('O'), '% Voix/exprimés 18': dtype('O'), 'Elu 18': dtype('float64'), 'Numéro de panneau 19': dtype('float64'), 'Nuance candidat 19': dtype('O'), 'Nom candidat 19': dtype('O'), 'Prénom candidat 19': dtype('O'), 'Sexe candidat 19': dtype('O'), 'Voix 19': dtype('float64'), '% Voix/inscrits 19': dtype('O'), '% Voix/exprimés 19': dtype('O'), 'Elu 19': dtype('float64')}\n",
      "Printing dict 2  \n",
      " {'Code département': dtype('O'), 'Libellé département': dtype('O'), 'Code commune': dtype('O'), 'Libellé commune': dtype('O'), 'Code BV': dtype('O'), 'Inscrits': dtype('int64'), 'Votants': dtype('int64'), '% Votants': dtype('O'), 'Abstentions': dtype('int64'), '% Abstentions': dtype('O'), 'Exprimés': dtype('int64'), '% Exprimés/inscrits': dtype('O'), '% Exprimés/votants': dtype('O'), 'Blancs': dtype('int64'), '% Blancs/inscrits': dtype('O'), '% Blancs/votants': dtype('O'), 'Nuls': dtype('int64'), '% Nuls/inscrits': dtype('O'), '% Nuls/votants': dtype('O'), 'Numéro de panneau 1': dtype('int64'), 'Nuance candidat 1': dtype('O'), 'Nom candidat 1': dtype('O'), 'Prénom candidat 1': dtype('O'), 'Sexe candidat 1': dtype('O'), 'Voix 1': dtype('int64'), '% Voix/inscrits 1': dtype('O'), '% Voix/exprimés 1': dtype('O'), 'Elu 1': dtype('O'), 'Numéro de panneau 2': dtype('float64'), 'Nuance candidat 2': dtype('O'), 'Nom candidat 2': dtype('O'), 'Prénom candidat 2': dtype('O'), 'Sexe candidat 2': dtype('O'), 'Voix 2': dtype('float64'), '% Voix/inscrits 2': dtype('O'), '% Voix/exprimés 2': dtype('O'), 'Elu 2': dtype('O'), 'Numéro de panneau 3': dtype('float64'), 'Nuance candidat 3': dtype('O'), 'Nom candidat 3': dtype('O'), 'Prénom candidat 3': dtype('O'), 'Sexe candidat 3': dtype('O'), 'Voix 3': dtype('float64'), '% Voix/inscrits 3': dtype('O'), '% Voix/exprimés 3': dtype('O'), 'Elu 3': dtype('O'), 'Numéro de panneau 4': dtype('float64'), 'Nuance candidat 4': dtype('O'), 'Nom candidat 4': dtype('O'), 'Prénom candidat 4': dtype('O'), 'Sexe candidat 4': dtype('O'), 'Voix 4': dtype('float64'), '% Voix/inscrits 4': dtype('O'), '% Voix/exprimés 4': dtype('O'), 'Elu 4': dtype('float64')}\n",
      "Printing dict candidats 1  \n",
      " {'Code département': dtype('O'), 'Département': dtype('O'), 'Code circonscription': dtype('O'), 'Libellé circonscription': dtype('O'), 'Numéro de panneau': dtype('int64'), 'N° dépôt': dtype('int64'), 'Sexe du candidat': dtype('O'), 'Nom du candidat': dtype('O'), 'Prénom du candidat': dtype('O'), 'Date de naissance du candidat': dtype('O'), 'Code nuance': dtype('O'), 'Profession': dtype('O'), 'Sortant': dtype('O'), 'Sexe remplaçant': dtype('O'), 'Nom remplaçant': dtype('O'), 'Prénom remplaçant': dtype('O'), 'Date de naissance remplaçant': dtype('O'), 'Sortant remplaçant': dtype('O')}\n",
      "Printing dict candidats 2  \n",
      " {'Code département': dtype('O'), 'Département': dtype('O'), 'Code circonscription': dtype('O'), 'Libellé circonscription': dtype('O'), 'Numéro de panneau': dtype('int64'), 'N° dépôt': dtype('int64'), 'Sexe du candidat': dtype('O'), 'Nom du candidat': dtype('O'), 'Prénom du candidat': dtype('O'), 'Date de naissance du candidat': dtype('O'), 'Code nuance': dtype('O'), 'Profession': dtype('O'), 'Sortant': dtype('O'), 'Sexe remplaçant': dtype('O'), 'Nom remplaçant': dtype('O'), 'Prénom remplaçant': dtype('O'), 'Date de naissance remplaçant': dtype('O'), 'Sortant remplaçant': dtype('O')}\n"
     ]
    }
   ],
   "source": [
    "#2024 t1 resultats\n",
    "df1 = pd.read_csv(r'/Users/newuser/data/elections/raw/legislatives2024_t1_resultats-definitifs-par-bureau-de-vote.csv',sep=';',decimal=\",\")\n",
    "\n",
    "#2024 t2 resultats\n",
    "df2 = pd.read_csv(r'/Users/newuser/data/elections/raw/legislatives2024_t2_resultats-definitifs-par-bureau-de-vote.csv',sep=';',decimal=\",\")\n",
    "\n",
    "#2024 t1 candidats\n",
    "df1c = pd.read_csv(r'/Users/newuser/data/elections/raw/legislatives-2024-candidatures-france-entiere-tour-1-2024-06-28.csv',sep=';',decimal=\",\")\n",
    "\n",
    "#2024 t2 candidats\n",
    "df2c = pd.read_csv(r'/Users/newuser/data/elections/raw/legislatives-2024-candidatures-france-entiere-tour-2-2024-07-05.csv',sep=';',decimal=\",\")\n",
    "\n",
    "#\n",
    "# on récupère le nom des variables d'abord\n",
    "def get_variables_dict (df):\n",
    "    return df.dtypes.to_dict()\n",
    "\n",
    "#dictionnaires resultats\n",
    "dict_2024_leg1_clean = get_variables_dict(df1.copy())\n",
    "print (\"Printing dict 1 \",\"\\n\",dict_2024_leg1_clean)\n",
    "dict_2024_leg2_clean = get_variables_dict(df2.copy())\n",
    "print (\"Printing dict 2 \",\"\\n\",dict_2024_leg2_clean)\n",
    "\n",
    "#dictionnaire candidats\n",
    "dict_2024_leg1c_clean = get_variables_dict(df1c.copy())\n",
    "print (\"Printing dict candidats 1 \",\"\\n\",dict_2024_leg1c_clean)\n",
    "dict_2024_leg2c_clean = get_variables_dict(df2c.copy())\n",
    "print (\"Printing dict candidats 2 \",\"\\n\",dict_2024_leg2c_clean)\n",
    "#df_2024_leg1_clean = clean_data(df.copy())\n",
    "#df_2024_leg1_clean.head()"
   ]
  },
  {
   "cell_type": "markdown",
   "metadata": {},
   "source": [
    "la fonction définie au debut pour cleaner les data n'a pas prévu que le nom de la colonne département soit nommée différemment. On étend la définition pour prendre ceci en compte."
   ]
  },
  {
   "cell_type": "code",
   "execution_count": 85,
   "metadata": {},
   "outputs": [
    {
     "name": "stdout",
     "output_type": "stream",
     "text": [
      "      Code département Libellé département Code commune Libellé commune  \\\n",
      "13206               27                Eure        27001           Aclou   \n",
      "13207               27                Eure        27002            Acon   \n",
      "13208               27                Eure        27003        Acquigny   \n",
      "13209               27                Eure        27003        Acquigny   \n",
      "13210               27                Eure        27004      Aigleville   \n",
      "...                ...                 ...          ...             ...   \n",
      "14009               27                Eure        27701    Val-de-Reuil   \n",
      "14010               27                Eure        27701    Val-de-Reuil   \n",
      "14011               27                Eure        27701    Val-de-Reuil   \n",
      "14012               27                Eure        27701    Val-de-Reuil   \n",
      "14013               27                Eure        27701    Val-de-Reuil   \n",
      "\n",
      "      Code BV  Inscrits  Votants % Votants  Abstentions % Abstentions  ...  \\\n",
      "13206    0001       244      165    67,62%           79        32,38%  ...   \n",
      "13207    0001       355      224    63,10%          131        36,90%  ...   \n",
      "13208    0001       683      455    66,62%          228        33,38%  ...   \n",
      "13209    0002       686      467    68,08%          219        31,92%  ...   \n",
      "13210    0001       299      204    68,23%           95        31,77%  ...   \n",
      "...       ...       ...      ...       ...          ...           ...  ...   \n",
      "14009    0002      1153      605    52,47%          548        47,53%  ...   \n",
      "14010    0003      1263      668    52,89%          595        47,11%  ...   \n",
      "14011    0004      1349      669    49,59%          680        50,41%  ...   \n",
      "14012    0005      1240      766    61,77%          474        38,23%  ...   \n",
      "14013    0006      1667     1041    62,45%          626        37,55%  ...   \n",
      "\n",
      "       Elu 3 Numéro de panneau 4 Nuance candidat 4  Nom candidat 4  \\\n",
      "13206    NaN                 NaN               NaN             NaN   \n",
      "13207    NaN                 NaN               NaN             NaN   \n",
      "13208    NaN                 NaN               NaN             NaN   \n",
      "13209    NaN                 NaN               NaN             NaN   \n",
      "13210    NaN                 NaN               NaN             NaN   \n",
      "...      ...                 ...               ...             ...   \n",
      "14009    NaN                 NaN               NaN             NaN   \n",
      "14010    NaN                 NaN               NaN             NaN   \n",
      "14011    NaN                 NaN               NaN             NaN   \n",
      "14012    NaN                 NaN               NaN             NaN   \n",
      "14013    NaN                 NaN               NaN             NaN   \n",
      "\n",
      "      Prénom candidat 4 Sexe candidat 4  Voix 4 % Voix/inscrits 4  \\\n",
      "13206               NaN             NaN     NaN               NaN   \n",
      "13207               NaN             NaN     NaN               NaN   \n",
      "13208               NaN             NaN     NaN               NaN   \n",
      "13209               NaN             NaN     NaN               NaN   \n",
      "13210               NaN             NaN     NaN               NaN   \n",
      "...                 ...             ...     ...               ...   \n",
      "14009               NaN             NaN     NaN               NaN   \n",
      "14010               NaN             NaN     NaN               NaN   \n",
      "14011               NaN             NaN     NaN               NaN   \n",
      "14012               NaN             NaN     NaN               NaN   \n",
      "14013               NaN             NaN     NaN               NaN   \n",
      "\n",
      "      % Voix/exprimés 4  Elu 4  \n",
      "13206               NaN    NaN  \n",
      "13207               NaN    NaN  \n",
      "13208               NaN    NaN  \n",
      "13209               NaN    NaN  \n",
      "13210               NaN    NaN  \n",
      "...                 ...    ...  \n",
      "14009               NaN    NaN  \n",
      "14010               NaN    NaN  \n",
      "14011               NaN    NaN  \n",
      "14012               NaN    NaN  \n",
      "14013               NaN    NaN  \n",
      "\n",
      "[808 rows x 55 columns]\n"
     ]
    }
   ],
   "source": [
    "def clean_data_departements_normands(df,v):\n",
    "    # Filter rows based on column: 'Code du département'\n",
    "    df = df[(df[v] == \"27\") | (df[v] == \"76\") | (df[v] == \"61\") | (df[v] == \"50\") | (df[v] == \"14\")\n",
    "            |\n",
    "            (df[v] == 27) | (df[v] == 76) | (df[v] == 61) | (df[v] == 50) | (df[v] == 14)]\n",
    "    return df\n",
    "\n",
    "def clean_data_candidats_normands(df,v):\n",
    "    # Filter rows based on column: 'Code du département'\n",
    "    df = df[(df[v] == \"27\") | (df[v] == \"76\") | (df[v] == \"61\") | (df[v] == \"50\") | (df[v] == \"14\")]\n",
    "    return df\n",
    "\n",
    "df_2024_leg1_clean = clean_data_departements_normands(df1.copy(),\"Code département\")\n",
    "df_2024_leg1c_clean = clean_data_candidats_normands(df1c.copy(),\"Code département\")\n",
    "df_2024_leg2_clean = clean_data_departements_normands(df2.copy(),\"Code département\")\n",
    "df_2024_leg2c_clean = clean_data_candidats_normands(df2c.copy(),\"Code département\")\n",
    "#print(df_2024_leg1_clean[df_2024_leg1_clean['Code département'] == 27])\n",
    "print(df_2024_leg2_clean[df_2024_leg2_clean['Code département'] == \"27\"])"
   ]
  },
  {
   "cell_type": "markdown",
   "metadata": {},
   "source": [
    "CHECK DES DATASETS"
   ]
  },
  {
   "cell_type": "code",
   "execution_count": 86,
   "metadata": {},
   "outputs": [
    {
     "name": "stdout",
     "output_type": "stream",
     "text": [
      "     Code BV Code commune\n",
      "5981    0001        14001\n",
      "5982    0001        14003\n",
      "5983    0001        14005\n",
      "5984    0002        14005\n",
      "5985    0003        14005\n",
      "      Code BV Code commune\n",
      "48234    0006        76758\n",
      "48235    0007        76758\n",
      "48236    0008        76758\n",
      "48237    0009        76758\n",
      "48238    0001        76759\n"
     ]
    }
   ],
   "source": [
    "print(df_2024_leg2_clean[['Code BV','Code commune']].head())\n",
    "print(df_2024_leg2_clean[['Code BV','Code commune']].tail())"
   ]
  },
  {
   "cell_type": "markdown",
   "metadata": {},
   "source": [
    "\n",
    "##### PROBLEME APPARENT QUAND JE CHERCHE A SAUVEGARDER EN PARQUET...\n",
    "##### Merci le ministere de l'intérieur !\n",
    "```ArrowTypeError: (\"Expected bytes, got a 'int' object\", 'Conversion failed for column Code BV with type object')```\n",
    "##### La solution se trouve peut etre dans .astype('str'), mais ça m'amène à printer le datatype de chaque colonne (et vérifier que c'est pas mixed...)\n"
   ]
  },
  {
   "cell_type": "code",
   "execution_count": 87,
   "metadata": {},
   "outputs": [
    {
     "data": {
      "text/plain": [
       "'mixed-integer'"
      ]
     },
     "execution_count": 87,
     "metadata": {},
     "output_type": "execute_result"
    }
   ],
   "source": [
    "pd.api.types.infer_dtype(df_2024_leg1_clean['Code BV'])"
   ]
  },
  {
   "cell_type": "code",
   "execution_count": 107,
   "metadata": {},
   "outputs": [
    {
     "name": "stdout",
     "output_type": "stream",
     "text": [
      "Check data types L1\n",
      "Code département type : integer\n",
      "Libellé département type : string\n",
      "Code commune type : integer\n",
      "Libellé commune type : string\n",
      "Code BV type : string\n",
      "Inscrits type : integer\n",
      "Votants type : integer\n",
      "% Votants type : string\n",
      "Abstentions type : integer\n",
      "% Abstentions type : string\n",
      "Exprimés type : integer\n",
      "% Exprimés/inscrits type : string\n",
      "% Exprimés/votants type : string\n",
      "Blancs type : integer\n",
      "% Blancs/inscrits type : string\n",
      "% Blancs/votants type : string\n",
      "Nuls type : integer\n",
      "% Nuls/inscrits type : string\n",
      "% Nuls/votants type : string\n",
      "Numéro de panneau 1 type : integer\n",
      "Nuance candidat 1 type : string\n",
      "Nom candidat 1 type : string\n",
      "Prénom candidat 1 type : string\n",
      "Sexe candidat 1 type : string\n",
      "Voix 1 type : integer\n",
      "% Voix/inscrits 1 type : string\n",
      "% Voix/exprimés 1 type : string\n",
      "Elu 1 type : empty\n",
      "Numéro de panneau 2 type : integer\n",
      "Nuance candidat 2 type : string\n",
      "Nom candidat 2 type : string\n",
      "Prénom candidat 2 type : string\n",
      "Sexe candidat 2 type : string\n",
      "Voix 2 type : integer\n",
      "% Voix/inscrits 2 type : string\n",
      "% Voix/exprimés 2 type : string\n",
      "Elu 2 type : empty\n",
      "Numéro de panneau 3 type : integer\n",
      "Nuance candidat 3 type : string\n",
      "Nom candidat 3 type : string\n",
      "Prénom candidat 3 type : string\n",
      "Sexe candidat 3 type : string\n",
      "Voix 3 type : integer\n",
      "% Voix/inscrits 3 type : string\n",
      "% Voix/exprimés 3 type : string\n",
      "Elu 3 type : empty\n",
      "Numéro de panneau 4 type : integer\n",
      "Nuance candidat 4 type : string\n",
      "Nom candidat 4 type : string\n",
      "Prénom candidat 4 type : string\n",
      "Sexe candidat 4 type : string\n",
      "Voix 4 type : integer\n",
      "% Voix/inscrits 4 type : string\n",
      "% Voix/exprimés 4 type : string\n",
      "Elu 4 type : empty\n",
      "Numéro de panneau 5 type : floating\n",
      "Nuance candidat 5 type : string\n",
      "Nom candidat 5 type : string\n",
      "Prénom candidat 5 type : string\n",
      "Sexe candidat 5 type : string\n",
      "Voix 5 type : floating\n",
      "% Voix/inscrits 5 type : string\n",
      "% Voix/exprimés 5 type : string\n",
      "Elu 5 type : empty\n",
      "Numéro de panneau 6 type : floating\n",
      "Nuance candidat 6 type : string\n",
      "Nom candidat 6 type : string\n",
      "Prénom candidat 6 type : string\n",
      "Sexe candidat 6 type : string\n",
      "Voix 6 type : floating\n",
      "% Voix/inscrits 6 type : string\n",
      "% Voix/exprimés 6 type : string\n",
      "Elu 6 type : empty\n",
      "Numéro de panneau 7 type : floating\n",
      "Nuance candidat 7 type : string\n",
      "Nom candidat 7 type : string\n",
      "Prénom candidat 7 type : string\n",
      "Sexe candidat 7 type : string\n",
      "Voix 7 type : floating\n",
      "% Voix/inscrits 7 type : string\n",
      "% Voix/exprimés 7 type : string\n",
      "Elu 7 type : empty\n",
      "Numéro de panneau 8 type : floating\n",
      "Nuance candidat 8 type : string\n",
      "Nom candidat 8 type : string\n",
      "Prénom candidat 8 type : string\n",
      "Sexe candidat 8 type : string\n",
      "Voix 8 type : floating\n",
      "% Voix/inscrits 8 type : string\n",
      "% Voix/exprimés 8 type : string\n",
      "Elu 8 type : empty\n",
      "Numéro de panneau 9 type : floating\n",
      "Nuance candidat 9 type : string\n",
      "Nom candidat 9 type : string\n",
      "Prénom candidat 9 type : string\n",
      "Sexe candidat 9 type : string\n",
      "Voix 9 type : floating\n",
      "% Voix/inscrits 9 type : string\n",
      "% Voix/exprimés 9 type : string\n",
      "Elu 9 type : floating\n",
      "Numéro de panneau 10 type : floating\n",
      "Nuance candidat 10 type : string\n",
      "Nom candidat 10 type : string\n",
      "Prénom candidat 10 type : string\n",
      "Sexe candidat 10 type : string\n",
      "Voix 10 type : floating\n",
      "% Voix/inscrits 10 type : string\n",
      "% Voix/exprimés 10 type : string\n",
      "Elu 10 type : empty\n",
      "Numéro de panneau 11 type : floating\n",
      "Nuance candidat 11 type : empty\n",
      "Nom candidat 11 type : empty\n",
      "Prénom candidat 11 type : empty\n",
      "Sexe candidat 11 type : empty\n",
      "Voix 11 type : floating\n",
      "% Voix/inscrits 11 type : empty\n",
      "% Voix/exprimés 11 type : empty\n",
      "Elu 11 type : empty\n",
      "Numéro de panneau 12 type : floating\n",
      "Nuance candidat 12 type : empty\n",
      "Nom candidat 12 type : empty\n",
      "Prénom candidat 12 type : empty\n",
      "Sexe candidat 12 type : empty\n",
      "Voix 12 type : floating\n",
      "% Voix/inscrits 12 type : empty\n",
      "% Voix/exprimés 12 type : empty\n",
      "Elu 12 type : floating\n",
      "Numéro de panneau 13 type : floating\n",
      "Nuance candidat 13 type : empty\n",
      "Nom candidat 13 type : empty\n",
      "Prénom candidat 13 type : empty\n",
      "Sexe candidat 13 type : empty\n",
      "Voix 13 type : floating\n",
      "% Voix/inscrits 13 type : empty\n",
      "% Voix/exprimés 13 type : empty\n",
      "Elu 13 type : floating\n",
      "Numéro de panneau 14 type : floating\n",
      "Nuance candidat 14 type : empty\n",
      "Nom candidat 14 type : empty\n",
      "Prénom candidat 14 type : empty\n",
      "Sexe candidat 14 type : empty\n",
      "Voix 14 type : floating\n",
      "% Voix/inscrits 14 type : empty\n",
      "% Voix/exprimés 14 type : empty\n",
      "Elu 14 type : floating\n",
      "Numéro de panneau 15 type : floating\n",
      "Nuance candidat 15 type : empty\n",
      "Nom candidat 15 type : empty\n",
      "Prénom candidat 15 type : empty\n",
      "Sexe candidat 15 type : empty\n",
      "Voix 15 type : floating\n",
      "% Voix/inscrits 15 type : empty\n",
      "% Voix/exprimés 15 type : empty\n",
      "Elu 15 type : floating\n",
      "Numéro de panneau 16 type : floating\n",
      "Nuance candidat 16 type : empty\n",
      "Nom candidat 16 type : empty\n",
      "Prénom candidat 16 type : empty\n",
      "Sexe candidat 16 type : empty\n",
      "Voix 16 type : floating\n",
      "% Voix/inscrits 16 type : empty\n",
      "% Voix/exprimés 16 type : empty\n",
      "Elu 16 type : floating\n",
      "Numéro de panneau 17 type : floating\n",
      "Nuance candidat 17 type : empty\n",
      "Nom candidat 17 type : empty\n",
      "Prénom candidat 17 type : empty\n",
      "Sexe candidat 17 type : empty\n",
      "Voix 17 type : floating\n",
      "% Voix/inscrits 17 type : empty\n",
      "% Voix/exprimés 17 type : empty\n",
      "Elu 17 type : floating\n",
      "Numéro de panneau 18 type : floating\n",
      "Nuance candidat 18 type : empty\n",
      "Nom candidat 18 type : empty\n",
      "Prénom candidat 18 type : empty\n",
      "Sexe candidat 18 type : empty\n",
      "Voix 18 type : floating\n",
      "% Voix/inscrits 18 type : empty\n",
      "% Voix/exprimés 18 type : empty\n",
      "Elu 18 type : floating\n",
      "Numéro de panneau 19 type : floating\n",
      "Nuance candidat 19 type : empty\n",
      "Nom candidat 19 type : empty\n",
      "Prénom candidat 19 type : empty\n",
      "Sexe candidat 19 type : empty\n",
      "Voix 19 type : floating\n",
      "% Voix/inscrits 19 type : empty\n",
      "% Voix/exprimés 19 type : empty\n",
      "Elu 19 type : floating\n",
      "\n",
      "\n",
      " Check data types L2 \n",
      "\n",
      "\n",
      "Code département type : string\n",
      "Libellé département type : string\n",
      "Code commune type : integer\n",
      "Libellé commune type : string\n",
      "Code BV type : string\n",
      "Inscrits type : integer\n",
      "Votants type : integer\n",
      "% Votants type : string\n",
      "Abstentions type : integer\n",
      "% Abstentions type : string\n",
      "Exprimés type : integer\n",
      "% Exprimés/inscrits type : string\n",
      "% Exprimés/votants type : string\n",
      "Blancs type : integer\n",
      "% Blancs/inscrits type : string\n",
      "% Blancs/votants type : string\n",
      "Nuls type : integer\n",
      "% Nuls/inscrits type : string\n",
      "% Nuls/votants type : string\n",
      "Numéro de panneau 1 type : integer\n",
      "Nuance candidat 1 type : string\n",
      "Nom candidat 1 type : string\n",
      "Prénom candidat 1 type : string\n",
      "Sexe candidat 1 type : string\n",
      "Voix 1 type : integer\n",
      "% Voix/inscrits 1 type : string\n",
      "% Voix/exprimés 1 type : string\n",
      "Elu 1 type : string\n",
      "Numéro de panneau 2 type : floating\n",
      "Nuance candidat 2 type : string\n",
      "Nom candidat 2 type : string\n",
      "Prénom candidat 2 type : string\n",
      "Sexe candidat 2 type : string\n",
      "Voix 2 type : floating\n",
      "% Voix/inscrits 2 type : string\n",
      "% Voix/exprimés 2 type : string\n",
      "Elu 2 type : string\n",
      "Numéro de panneau 3 type : floating\n",
      "Nuance candidat 3 type : string\n",
      "Nom candidat 3 type : string\n",
      "Prénom candidat 3 type : string\n",
      "Sexe candidat 3 type : string\n",
      "Voix 3 type : floating\n",
      "% Voix/inscrits 3 type : string\n",
      "% Voix/exprimés 3 type : string\n",
      "Elu 3 type : empty\n",
      "Numéro de panneau 4 type : floating\n",
      "Nuance candidat 4 type : empty\n",
      "Nom candidat 4 type : empty\n",
      "Prénom candidat 4 type : empty\n",
      "Sexe candidat 4 type : empty\n",
      "Voix 4 type : floating\n",
      "% Voix/inscrits 4 type : empty\n",
      "% Voix/exprimés 4 type : empty\n",
      "Elu 4 type : floating\n",
      "\n",
      "\n",
      "Code département type : string\n",
      "Libellé département type : string\n",
      "Code commune type : integer\n",
      "Libellé commune type : string\n",
      "Code BV type : string\n",
      "Inscrits type : integer\n",
      "Votants type : integer\n",
      "% Votants type : string\n",
      "Abstentions type : integer\n",
      "% Abstentions type : string\n",
      "Exprimés type : integer\n",
      "% Exprimés/inscrits type : string\n",
      "% Exprimés/votants type : string\n",
      "Blancs type : integer\n",
      "% Blancs/inscrits type : string\n",
      "% Blancs/votants type : string\n",
      "Nuls type : integer\n",
      "% Nuls/inscrits type : string\n",
      "% Nuls/votants type : string\n",
      "Numéro de panneau 1 type : integer\n",
      "Nuance candidat 1 type : string\n",
      "Nom candidat 1 type : string\n",
      "Prénom candidat 1 type : string\n",
      "Sexe candidat 1 type : string\n",
      "Voix 1 type : integer\n",
      "% Voix/inscrits 1 type : string\n",
      "% Voix/exprimés 1 type : string\n",
      "Elu 1 type : string\n",
      "Numéro de panneau 2 type : floating\n",
      "Nuance candidat 2 type : string\n",
      "Nom candidat 2 type : string\n",
      "Prénom candidat 2 type : string\n",
      "Sexe candidat 2 type : string\n",
      "Voix 2 type : floating\n",
      "% Voix/inscrits 2 type : string\n",
      "% Voix/exprimés 2 type : string\n",
      "Elu 2 type : string\n",
      "Numéro de panneau 3 type : floating\n",
      "Nuance candidat 3 type : string\n",
      "Nom candidat 3 type : string\n",
      "Prénom candidat 3 type : string\n",
      "Sexe candidat 3 type : string\n",
      "Voix 3 type : floating\n",
      "% Voix/inscrits 3 type : string\n",
      "% Voix/exprimés 3 type : string\n",
      "Elu 3 type : empty\n",
      "Numéro de panneau 4 type : floating\n",
      "Nuance candidat 4 type : empty\n",
      "Nom candidat 4 type : empty\n",
      "Prénom candidat 4 type : empty\n",
      "Sexe candidat 4 type : empty\n",
      "Voix 4 type : floating\n",
      "% Voix/inscrits 4 type : empty\n",
      "% Voix/exprimés 4 type : empty\n",
      "Elu 4 type : floating\n"
     ]
    }
   ],
   "source": [
    "print(\"Check data types L1\")\n",
    "for column in df_2024_leg1_clean.columns:\n",
    "    print(df_2024_leg1_clean[column].name, \"type :\",pd.api.types.infer_dtype(df_2024_leg1_clean[column]))\n",
    "\n",
    "\n",
    "print(\"\\n\\n Check data types L2 \\n\\n\")\n",
    "for column in df_2024_leg2_clean.columns:\n",
    "    print(df_2024_leg2_clean[column].name, \"type :\",pd.api.types.infer_dtype(df_2024_leg2_clean[column])) \n",
    "\n",
    "#Code département type : mixed-integer\n",
    "#Code commune type : mixed-integer\n",
    "\n",
    "df_2024_leg2_clean['Code département'][df_2024_leg2_clean['Code département'].apply(lambda x: isinstance(x, str))]\n",
    "df_2024_leg2_clean['Code commune'][df_2024_leg2_clean['Code commune'].apply(lambda x: isinstance(x, int))]\n",
    "\n",
    "# Après correction mixed types:\n",
    "\n",
    "# Fonction de normalisation\n",
    "def normalize_string(s):\n",
    "    # Convertit en chaîne de caractères et supprime les zéros en début de chaîne\n",
    "    return str(s)\n",
    "\n",
    "def normalize_int(s):\n",
    "    # Convertit en chaîne de caractères et supprime les zéros en début de chaîne\n",
    "    return int(s)\n",
    "# Application de la normalisation aux colonnes\n",
    "df_2024_leg2_clean['Code département'] = df_2024_leg2_clean['Code département'].apply(normalize_string)\n",
    "df_2024_leg2_clean['Code commune'] = df_2024_leg2_clean['Code commune'].apply(normalize_int)\n",
    "\n",
    "print('\\n')\n",
    "for column in df_2024_leg2_clean.columns: \n",
    "    print(df_2024_leg2_clean[column].name, \"type :\",pd.api.types.infer_dtype(df_2024_leg2_clean[column])) \n",
    "\n"
   ]
  },
  {
   "cell_type": "code",
   "execution_count": 108,
   "metadata": {},
   "outputs": [],
   "source": [
    "#df_2024_leg1_clean['Code BV'].head()\n",
    "#df_2024_leg1_clean['Code BV'] = df_2024_leg1_clean['Code BV'].astype('str')\n",
    "#df_2024_leg2_clean['Code BV'].head()\n",
    "#df_2024_leg2_clean['Code BV'] = df_2024_leg2_clean['Code BV'].astype('str')\n",
    "#print(df_2024_leg1_clean['Code BV'].dtype)\n",
    "#df1c.head()\n",
    "#df_2024_leg1c_clean.tail()\n",
    "#print((df_2024_leg1_clean.dtypes.to_dict()))\n",
    "df_2024_leg1_clean.to_parquet('~/data/elections/eda/2024Legislatives_t1_results_normandie_skim_simple.parquet')\n",
    "df_2024_leg1c_clean.to_parquet('~/data/elections/eda/2024Legislatives_t1_candidats_normandie_skim_simple.parquet')\n",
    "df_2024_leg2_clean.to_parquet('~/data/elections/eda/2024Legislatives_t2_results_normandie_skim_simple.parquet')\n",
    "df_2024_leg2c_clean.to_parquet('~/data/elections/eda/2024Legislatives_t2_candidats_normandie_skim_simple.parquet')"
   ]
  },
  {
   "cell_type": "markdown",
   "metadata": {},
   "source": [
    "#### Etape intermédiaire avant de skim pour de vrai \n",
    "##### on va chercher les dicts et les sauver de coté..."
   ]
  },
  {
   "cell_type": "code",
   "execution_count": 109,
   "metadata": {},
   "outputs": [
    {
     "data": {
      "text/plain": [
       "{'id_election': dtype('O'),\n",
       " 'id_brut_miom': dtype('O'),\n",
       " 'Code du département': dtype('O'),\n",
       " 'Code de la commune': dtype('O'),\n",
       " 'Code du b.vote': dtype('O'),\n",
       " 'N°Panneau': dtype('float64'),\n",
       " 'Libellé Abrégé Liste': dtype('O'),\n",
       " 'Libellé Etendu Liste': dtype('O'),\n",
       " 'Nom Tête de Liste': dtype('O'),\n",
       " 'Voix': dtype('float64'),\n",
       " '% Voix/Ins': dtype('float32'),\n",
       " '% Voix/Exp': dtype('float32'),\n",
       " 'Sexe': dtype('O'),\n",
       " 'Nom': dtype('O'),\n",
       " 'Prénom': dtype('O'),\n",
       " 'Nuance': dtype('O'),\n",
       " 'Binôme': dtype('O'),\n",
       " 'Liste': dtype('O')}"
      ]
     },
     "execution_count": 109,
     "metadata": {},
     "output_type": "execute_result"
    }
   ],
   "source": [
    "import pandas as pd\n",
    "\n",
    "df= pd.read_parquet('~/data/elections/eda/2019to2024Europeennes_results_normandie_skim_simple.parquet')\n",
    "df.dtypes.to_dict()\n"
   ]
  },
  {
   "cell_type": "markdown",
   "metadata": {},
   "source": [
    "Voili voilou. Maintenant on peut passer au vrai SKIM\n",
    "\n",
    "# Données Vernonnaises\n",
    "## Skim des données\n",
    "### Objectif: \n",
    "Sortir de ce bout de code avec un dataframe pour chaque election. Le dataframe contiendra les taux de participation grace à un join.\n",
    "Pour 2024-legi, on devra procéder légèrement différemment, les structures de données n'étant pas exactement les mêmes que dans le dataset aggrégé."
   ]
  },
  {
   "cell_type": "code",
   "execution_count": 268,
   "metadata": {},
   "outputs": [
    {
     "name": "stderr",
     "output_type": "stream",
     "text": [
      "/var/folders/gq/3q67kslj5_lb13yn9xswy0740000gn/T/ipykernel_10052/2695095693.py:133: SettingWithCopyWarning:\n",
      "\n",
      "\n",
      "A value is trying to be set on a copy of a slice from a DataFrame.\n",
      "Try using .loc[row_indexer,col_indexer] = value instead\n",
      "\n",
      "See the caveats in the documentation: https://pandas.pydata.org/pandas-docs/stable/user_guide/indexing.html#returning-a-view-versus-a-copy\n",
      "\n"
     ]
    },
    {
     "data": {
      "text/plain": [
       "(  Libellé commune_lut Code de la circonscription id_brut_miom Code BV  \\\n",
       " 0              Vernon                          5   27681_0001       1   \n",
       " \n",
       "   Code département Libellé département  Code commune Libellé commune_l2  \\\n",
       " 0               27                Eure         27681             Vernon   \n",
       " \n",
       "    Inscrits  Votants  ...  Nom candidat 3  Prénom candidat 3  Voix 3  Elu 3  \\\n",
       " 0       833      567  ...            None               None     NaN   None   \n",
       " \n",
       "    Numéro de panneau 4 Nuance candidat 4 Nom candidat 4 Prénom candidat 4  \\\n",
       " 0                  NaN              None           None              None   \n",
       " \n",
       "    Voix 4 Elu 4  \n",
       " 0     NaN   NaN  \n",
       " \n",
       " [1 rows x 38 columns],\n",
       " None)"
      ]
     },
     "execution_count": 268,
     "metadata": {},
     "output_type": "execute_result"
    }
   ],
   "source": [
    "import pandas as pd\n",
    "\n",
    "#données aggrégées par le ministère\n",
    "df_results = pd.read_parquet('~/data/elections/eda/2019to2024Europeennes_results_normandie_skim_simple.parquet')\n",
    "df_part =  pd.read_parquet('~/data/elections/eda/2019to2024Europeennes_participation_normandie_skim_simple.parquet')\n",
    "\n",
    "# le libellé de commune est dans le dataset participation. cet méthode parmet de filtrer sur une commune \n",
    "def get_dataset_Commune (df1, k1, v1):\n",
    "    df1 = df1[(df1[k1] == v1)] \n",
    "    return df1\n",
    "\n",
    "df1 = get_dataset_Commune(df_part.copy(),\"Libellé de la commune\",\"Vernon\")\n",
    "# Sélectionner le sous-ensemble de colonnes dans chaque DataFrame\n",
    "colonnes_interessantes_df1 = [\n",
    "    'id_election', 'id_brut_miom', 'Code du département', 'Libellé du département',\n",
    "    'Code de la commune', 'Libellé de la commune', 'Code du b.vote', 'Inscrits',\n",
    "    'Abstentions', 'Nuls','Exprimés',\n",
    "    'Code de la circonscription', 'Libellé de la circonscription']\n",
    "colonnes_interessantes_df_results= [\n",
    "    'id_election', 'id_brut_miom', 'Code du département', 'Code de la commune',\n",
    "    'Code du b.vote',  'Libellé Abrégé Liste', \n",
    "    'Nom Tête de Liste', 'Voix', 'Nom', 'Prénom',\n",
    "    'Nuance', 'Binôme']\n",
    "CI_2019 = [\n",
    "    'id_election','Libellé de la commune','Code du département_df1','Code du b.vote_df1', \n",
    "    'Inscrits','Abstentions','Nuls','Exprimés','Voix','Libellé Abrégé Liste','Nom Tête de Liste']\n",
    "CI_2024 = CI_2019 + ['Nuance']\n",
    "CI_2019 = [\n",
    "    'id_election','Libellé de la commune','Code du département_df1','Code du b.vote_df1', \n",
    "    'Inscrits','Abstentions','Nuls','Exprimés','Voix','Libellé Abrégé Liste','Nom Tête de Liste']\n",
    "CI_2024 = CI_2019 + ['Nuance']\n",
    "CI_2022_p1 = [\n",
    "    'id_election','Libellé de la commune','Code du département_df1','Code de la circonscription','Code du b.vote_df1', \n",
    "    'Inscrits','Abstentions','Nuls','Exprimés','Voix','Nom','Prénom']\n",
    "CI_2022_l1 = [\n",
    "    'id_election','Libellé de la commune','Code du département_df1','Code de la circonscription','Code du b.vote_df1', \n",
    "    'Inscrits','Abstentions','Nuls','Exprimés','Voix','Nom','Prénom','Nuance']\n",
    "\n",
    "df1_subset = df1[colonnes_interessantes_df1]\n",
    "df2_subset = df_results[colonnes_interessantes_df_results]\n",
    "# Joindre les deux DataFrames sur 'id_brut_miom'\n",
    "df_combined = pd.merge(df1_subset, df2_subset, on=('id_election','id_brut_miom'), how='left', suffixes=('_df1', '_df2'))\n",
    "\n",
    "df_2019 = df_combined[df_combined['id_election']==\"2019_euro_t1\"]\n",
    "df_2022_p1 = df_combined[df_combined['id_election']==\"2022_pres_t1\"]\n",
    "df_2022_p2 = df_combined[df_combined['id_election']==\"2022_pres_t2\"]\n",
    "df_2022_l1 = df_combined[df_combined['id_election']==\"2022_legi_t1\"] \n",
    "df_2022_l2 = df_combined[df_combined['id_election']==\"2022_legi_t2\"]\n",
    "df_2024_e =  df_combined[df_combined['id_election']==\"2024_euro_t1\"]\n",
    "\n",
    "#colonnes intéressantes issues du dataset combiné\n",
    "\n",
    "df_2019_subset = df_2019[CI_2019]\n",
    "df_2024_e_subset = df_2024_e[CI_2024]\n",
    "df_2022_p1_subset = df_2022_p1[CI_2022_p1]\n",
    "df_2022_p2_subset = df_2022_p2[CI_2022_p1] # meme subset de colonnes pour les deux tours de l'election presidentielle\n",
    "df_2022_l1_subset = df_2022_l1[CI_2022_l1]\n",
    "df_2022_l2_subset = df_2022_l2[CI_2022_l1]\n",
    "\n",
    "\n",
    "#######################################\n",
    "### ELECTION LEGISLATIVE ANTICIPEE 2024\n",
    "# liste des datasets\n",
    "df_2024_l1_candidats = pd.read_parquet('~/data/elections/eda/2024Legislatives_t1_candidats_normandie_skim_simple.parquet')\n",
    "df_2024_l1_results = pd.read_parquet('~/data/elections/eda/2024Legislatives_t1_results_normandie_skim_simple.parquet')\n",
    "df_2024_l2_candidats = pd.read_parquet('~/data/elections/eda/2024Legislatives_t2_candidats_normandie_skim_simple.parquet')\n",
    "df_2024_l2_results = pd.read_parquet('~/data/elections/eda/2024Legislatives_t2_results_normandie_skim_simple.parquet')\n",
    "# 1er tour : filtrage par commune\n",
    "df_2024_l1_commune = get_dataset_Commune(df_2024_l1_results.copy(),\"Libellé commune\",\"Vernon\")\n",
    "df_2024_l2_commune = get_dataset_Commune(df_2024_l2_results.copy(),\"Libellé commune\",\"Vernon\")\n",
    "# Colonnes intéressantes des datasets resultats pour enlever les colonnes vides et les colonnes qui ne nous intéressent pas\n",
    "CI_2024_legi = [\n",
    "   'Code département','Libellé département','Code commune','Libellé commune','Code BV',\n",
    "   'Inscrits','Votants','Abstentions','Exprimés','Blancs','Nuls',\n",
    "   'Numéro de panneau 1','Nuance candidat 1','Nom candidat 1','Prénom candidat 1','Voix 1','Elu 1',\n",
    "   'Numéro de panneau 2','Nuance candidat 2','Nom candidat 2','Prénom candidat 2','Voix 2','Elu 2',\n",
    "   'Numéro de panneau 3','Nuance candidat 3','Nom candidat 3','Prénom candidat 3','Voix 3','Elu 3',\n",
    "   'Numéro de panneau 4','Nuance candidat 4','Nom candidat 4','Prénom candidat 4','Voix 4','Elu 4',\n",
    "   'Numéro de panneau 5','Nuance candidat 5','Nom candidat 5','Prénom candidat 5','Voix 5','Elu 5',\n",
    "   'Numéro de panneau 6','Nuance candidat 6','Nom candidat 6','Prénom candidat 6','Voix 6','Elu 6',\n",
    "   'Numéro de panneau 7','Nuance candidat 7','Nom candidat 7','Prénom candidat 7','Voix 7','Elu 7',\n",
    "   'Numéro de panneau 8','Nuance candidat 8','Nom candidat 8','Prénom candidat 8','Voix 8','Elu 8',\n",
    "   'Numéro de panneau 9','Nuance candidat 9','Nom candidat 9','Prénom candidat 9','Voix 9','Elu 9',\n",
    "   'Numéro de panneau 10','Nuance candidat 10','Nom candidat 10','Prénom candidat 10','Voix 10','Elu 10'\n",
    "]\n",
    "df_2024_l1_subset = df_2024_l1_commune[CI_2024_legi]\n",
    "# Comment adosser le numero de circo à ce dataset ?\n",
    "# Dans 2022_legi1, il y a le code circo avec le Libellé commune. On peut donc faire une lookup table Commune -> Code Circo\n",
    "# Problème, certaines communes sont à cheval sur deux circos !\n",
    "# il faut donc combiner Libellé de la commune, Code de circonscription, et id_brut_miom (et code du BV tant qu'a faire, des fois que miom et BV n'ont pas la meme nomenclature...)\n",
    "def get_circo_commune (df):\n",
    "    df1 = df[(df['id_election'] == '2022_legi_t1')]\n",
    "    df1 = df1[['Libellé de la commune','Code de la circonscription','id_brut_miom','Code du b.vote']]\n",
    "    return df1 \n",
    "\n",
    "df_circo_lut = get_circo_commune(df_part.copy())\n",
    "df_circo_communes = get_dataset_Commune(df_circo_lut.copy(),\"Libellé de la commune\",\"Vernon\")\n",
    "\n",
    "df_circo_communes.rename(columns={\n",
    "    'Code du b.vote': 'Code BV',\n",
    "    'Libellé de la commune': 'Libellé commune'\n",
    "    }, inplace=True)\n",
    "\n",
    "#Quand on printe le Code BV, on se rend compte que les chains de charactères peuvent parfois être confondues à cause d'un zéro en queue. \n",
    "#On crée donc une méthode qui retire les zéros inutile en bout de chaine de caractères.\n",
    "def normalize_string(s):\n",
    "    # Supprime les zéros en début de chaîne\n",
    "    return str(s).lstrip('0')\n",
    "\n",
    "# Normalisation des colonnes\n",
    "df_circo_communes['Code BV'] = df_circo_communes['Code BV'].apply(normalize_string)\n",
    "df_circo_communes['Code de la circonscription'] = df_circo_communes['Code de la circonscription'].apply(normalize_string)\n",
    "\n",
    "# Fusionner les deux DataFrames sur les colonnes spécifiées : obtenir le df combined 2024_legi_t1.\n",
    "df_combined_2024_l1 = pd.merge(df_circo_communes, df_2024_l1_subset,how='inner',on=('Code BV'), suffixes=('_lut','_l1'))\n",
    "\n",
    "# meme manip pour le second tour des législatives anticipées.\n",
    "CI_2024_leg2 = [\n",
    "   'Code département','Libellé département','Code commune','Libellé commune','Code BV',\n",
    "   'Inscrits','Votants','Abstentions','Exprimés','Blancs','Nuls',\n",
    "   'Numéro de panneau 1','Nuance candidat 1','Nom candidat 1','Prénom candidat 1','Voix 1','Elu 1',\n",
    "   'Numéro de panneau 2','Nuance candidat 2','Nom candidat 2','Prénom candidat 2','Voix 2','Elu 2',\n",
    "   'Numéro de panneau 3','Nuance candidat 3','Nom candidat 3','Prénom candidat 3','Voix 3','Elu 3',\n",
    "   'Numéro de panneau 4','Nuance candidat 4','Nom candidat 4','Prénom candidat 4','Voix 4','Elu 4'\n",
    "]\n",
    "\n",
    "# 2e tour : filtrage par commune\n",
    "df_2024_l2_commune = get_dataset_Commune(df_2024_l2_results.copy(),\"Libellé commune\",\"Vernon\")\n",
    "df_2024_l2_subset = df_2024_l2_commune[CI_2024_leg2]\n",
    "\n",
    "# Fusionner les deux DataFrames sur les colonnes spécifiées\n",
    "# Normalisation et fusion des colonnes\n",
    "df_2024_l2_subset['Code BV'] = df_2024_l2_subset['Code BV'].apply(normalize_string)\n",
    "df_combined_2024_l2 = pd.merge(df_circo_communes, df_2024_l2_subset,how='inner',on=('Code BV'), suffixes=('_lut','_l2'))\n",
    "\n",
    "\n",
    "### Encore une étape ? Test qualité et exactitude des données !\n",
    "#print('vote LFI - NUPES - NFP Vernon (2019-2024):')\n",
    "#print(\"Manon Aubry 2019 :\", int(df_2019_subset['Voix'][df_2019_subset['Libellé Abrégé Liste']== 'LA FRANCE INSOUMISE'].sum()),\"voix\") #Vernon : 344 (on trouvera 345)\n",
    "#print(\"Jean-Luc Mélenchon 2022 1er tour :\", int(df_2022_p1_subset['Voix'][df_2022_p1_subset['Nom']== 'MÉLENCHON'].sum()),\"voix\") #Vernon : 3089 (on trouvera 3089)\n",
    "##print(\"Jean-Luc Mélenchon 2022 2eme tour :\", int(df_2022_p2_subset['Voix'][df_2022_p2_subset['Nom']== 'MÉLENCHON'].sum()),\"voix\") # on trouve 0\n",
    "#print(\"Pierre-Yves Jourdain 2022 1er tour :\", int(df_2022_l1_subset['Voix'][df_2022_l1_subset['Nom']== 'JOURDAIN'].sum()),\"voix\") #Vernon : 1949 (on trouvera 1949)\n",
    "#print(\"Pierre-Yves Jourdain 2022 2eme tour :\", int(df_2022_l2_subset['Voix'][df_2022_l2_subset['Nom']== 'JOURDAIN'].sum()),\"voix\") #Vernon : 0 (on trouvera 0)\n",
    "#print(\"Manon Aubry 2024 :\", int(df_2024_e_subset['Voix'][df_2024_e_subset['Libellé Abrégé Liste']== 'LFI - UP'].sum()),\"voix\")# Vernon : 1177 (on trouvera 1177)\n",
    "#print(\"Pierre-Yves Jourdain 2024 1er tour :\", int(df_combined_2024_l1['Voix 2'][df_combined_2024_l1['Nom candidat 2']== 'JOURDAIN'].sum()),\"voix\") #Vernon : 3395 (on trouvera 3395)\n",
    "#print(\"Pierre-Yves Jourdain 2024 2eme tour :\", int(df_combined_2024_l2['Voix 2'][df_combined_2024_l2['Nom candidat 2']== 'JOURDAIN'].sum()),\"voix\") #Vernon : 0 (on trouvera 0)\n",
    "\n",
    "\n",
    "# saving data\n",
    "df_2019_subset.head(1),df_2019_subset.to_parquet('~/data/elections/eda/minieda/Vernon/2019_euro_t1.parquet')\n",
    "df_2022_p1_subset.head(1),df_2022_p1_subset.to_parquet('~/data/elections/eda/minieda/Vernon/2022_pres_t1.parquet')\n",
    "df_2022_p2_subset.head(1),df_2022_p2_subset.to_parquet('~/data/elections/eda/minieda/Vernon/2022_pres_t2.parquet')\n",
    "df_2022_l1_subset.head(1),df_2022_l1_subset.to_parquet('~/data/elections/eda/minieda/Vernon/2022_legi_t1.parquet')\n",
    "df_2022_l2_subset.head(1),df_2022_l2_subset.to_parquet('~/data/elections/eda/minieda/Vernon/2022_legi_t2.parquet')\n",
    "df_2024_e_subset.head(1),df_2024_e_subset.to_parquet('~/data/elections/eda/minieda/Vernon/2024_euro_t1.parquet')\n",
    "df_combined_2024_l1.head(1),df_combined_2024_l1.to_parquet('~/data/elections/eda/minieda/Vernon/2024_legi_t1.parquet')\n",
    "df_combined_2024_l2.head(1),df_combined_2024_l2.to_parquet('~/data/elections/eda/minieda/Vernon/2024_legi_t2.parquet')\n"
   ]
  },
  {
   "cell_type": "markdown",
   "metadata": {},
   "source": [
    "## Elections Européennes\n",
    "### 1. Participation 2024 vs 2019\n",
    "### 2. visualisation en bloc 2019\n",
    "### 3. visualisation en listes 2019"
   ]
  },
  {
   "cell_type": "markdown",
   "metadata": {},
   "source": [
    "1. Participation 2024 vs 2019\n",
    "On accède aux deux datasets 2019 et 2024 pour en extraire un dataset 'groupé' de base avec le dictionnaire dict_part. A ce dataset se rajoute la 'participation' en pourcentages."
   ]
  },
  {
   "cell_type": "code",
   "execution_count": 450,
   "metadata": {},
   "outputs": [
    {
     "name": "stdout",
     "output_type": "stream",
     "text": [
      " Élections européennes 2019 Vernon:\n",
      " Inscrits : 15195 Abstentions : 7925 Participation : 47.8 %\n",
      " Élections européennes 2024 Vernon:\n",
      " Inscrits : 15651 Abstentions : 7776 Participation : 50.3 %\n",
      "\n"
     ]
    },
    {
     "data": {
      "text/html": [
       "<div>\n",
       "<style scoped>\n",
       "    .dataframe tbody tr th:only-of-type {\n",
       "        vertical-align: middle;\n",
       "    }\n",
       "\n",
       "    .dataframe tbody tr th {\n",
       "        vertical-align: top;\n",
       "    }\n",
       "\n",
       "    .dataframe thead th {\n",
       "        text-align: right;\n",
       "    }\n",
       "</style>\n",
       "<table border=\"1\" class=\"dataframe\">\n",
       "  <thead>\n",
       "    <tr style=\"text-align: right;\">\n",
       "      <th></th>\n",
       "      <th>Code du b.vote_df1</th>\n",
       "      <th>Inscrits</th>\n",
       "      <th>Abstentions</th>\n",
       "      <th>Nuls</th>\n",
       "      <th>Exprimés</th>\n",
       "      <th>Voix</th>\n",
       "    </tr>\n",
       "  </thead>\n",
       "  <tbody>\n",
       "    <tr>\n",
       "      <th>0</th>\n",
       "      <td>0001</td>\n",
       "      <td>833</td>\n",
       "      <td>408</td>\n",
       "      <td>11</td>\n",
       "      <td>411</td>\n",
       "      <td>411.0</td>\n",
       "    </tr>\n",
       "    <tr>\n",
       "      <th>1</th>\n",
       "      <td>0002</td>\n",
       "      <td>933</td>\n",
       "      <td>467</td>\n",
       "      <td>5</td>\n",
       "      <td>447</td>\n",
       "      <td>447.0</td>\n",
       "    </tr>\n",
       "    <tr>\n",
       "      <th>2</th>\n",
       "      <td>0003</td>\n",
       "      <td>693</td>\n",
       "      <td>320</td>\n",
       "      <td>5</td>\n",
       "      <td>365</td>\n",
       "      <td>365.0</td>\n",
       "    </tr>\n",
       "    <tr>\n",
       "      <th>3</th>\n",
       "      <td>0004</td>\n",
       "      <td>700</td>\n",
       "      <td>292</td>\n",
       "      <td>2</td>\n",
       "      <td>396</td>\n",
       "      <td>396.0</td>\n",
       "    </tr>\n",
       "    <tr>\n",
       "      <th>4</th>\n",
       "      <td>0005</td>\n",
       "      <td>688</td>\n",
       "      <td>322</td>\n",
       "      <td>3</td>\n",
       "      <td>351</td>\n",
       "      <td>351.0</td>\n",
       "    </tr>\n",
       "    <tr>\n",
       "      <th>5</th>\n",
       "      <td>0006</td>\n",
       "      <td>806</td>\n",
       "      <td>380</td>\n",
       "      <td>8</td>\n",
       "      <td>408</td>\n",
       "      <td>408.0</td>\n",
       "    </tr>\n",
       "    <tr>\n",
       "      <th>6</th>\n",
       "      <td>0007</td>\n",
       "      <td>1066</td>\n",
       "      <td>550</td>\n",
       "      <td>11</td>\n",
       "      <td>495</td>\n",
       "      <td>495.0</td>\n",
       "    </tr>\n",
       "    <tr>\n",
       "      <th>7</th>\n",
       "      <td>0008</td>\n",
       "      <td>914</td>\n",
       "      <td>434</td>\n",
       "      <td>12</td>\n",
       "      <td>463</td>\n",
       "      <td>463.0</td>\n",
       "    </tr>\n",
       "    <tr>\n",
       "      <th>8</th>\n",
       "      <td>0009</td>\n",
       "      <td>834</td>\n",
       "      <td>447</td>\n",
       "      <td>8</td>\n",
       "      <td>371</td>\n",
       "      <td>371.0</td>\n",
       "    </tr>\n",
       "    <tr>\n",
       "      <th>9</th>\n",
       "      <td>0010</td>\n",
       "      <td>569</td>\n",
       "      <td>316</td>\n",
       "      <td>3</td>\n",
       "      <td>244</td>\n",
       "      <td>244.0</td>\n",
       "    </tr>\n",
       "    <tr>\n",
       "      <th>10</th>\n",
       "      <td>0011</td>\n",
       "      <td>728</td>\n",
       "      <td>316</td>\n",
       "      <td>2</td>\n",
       "      <td>405</td>\n",
       "      <td>405.0</td>\n",
       "    </tr>\n",
       "    <tr>\n",
       "      <th>11</th>\n",
       "      <td>0012</td>\n",
       "      <td>892</td>\n",
       "      <td>381</td>\n",
       "      <td>4</td>\n",
       "      <td>501</td>\n",
       "      <td>501.0</td>\n",
       "    </tr>\n",
       "    <tr>\n",
       "      <th>12</th>\n",
       "      <td>0013</td>\n",
       "      <td>1206</td>\n",
       "      <td>893</td>\n",
       "      <td>1</td>\n",
       "      <td>303</td>\n",
       "      <td>303.0</td>\n",
       "    </tr>\n",
       "    <tr>\n",
       "      <th>13</th>\n",
       "      <td>0014</td>\n",
       "      <td>740</td>\n",
       "      <td>533</td>\n",
       "      <td>6</td>\n",
       "      <td>198</td>\n",
       "      <td>198.0</td>\n",
       "    </tr>\n",
       "    <tr>\n",
       "      <th>14</th>\n",
       "      <td>0015</td>\n",
       "      <td>1182</td>\n",
       "      <td>609</td>\n",
       "      <td>7</td>\n",
       "      <td>558</td>\n",
       "      <td>558.0</td>\n",
       "    </tr>\n",
       "    <tr>\n",
       "      <th>15</th>\n",
       "      <td>0016</td>\n",
       "      <td>725</td>\n",
       "      <td>327</td>\n",
       "      <td>1</td>\n",
       "      <td>395</td>\n",
       "      <td>395.0</td>\n",
       "    </tr>\n",
       "    <tr>\n",
       "      <th>16</th>\n",
       "      <td>0017</td>\n",
       "      <td>796</td>\n",
       "      <td>346</td>\n",
       "      <td>7</td>\n",
       "      <td>440</td>\n",
       "      <td>440.0</td>\n",
       "    </tr>\n",
       "    <tr>\n",
       "      <th>17</th>\n",
       "      <td>0018</td>\n",
       "      <td>890</td>\n",
       "      <td>584</td>\n",
       "      <td>6</td>\n",
       "      <td>294</td>\n",
       "      <td>294.0</td>\n",
       "    </tr>\n",
       "  </tbody>\n",
       "</table>\n",
       "</div>"
      ],
      "text/plain": [
       "   Code du b.vote_df1  Inscrits  Abstentions  Nuls  Exprimés   Voix\n",
       "0                0001       833          408    11       411  411.0\n",
       "1                0002       933          467     5       447  447.0\n",
       "2                0003       693          320     5       365  365.0\n",
       "3                0004       700          292     2       396  396.0\n",
       "4                0005       688          322     3       351  351.0\n",
       "5                0006       806          380     8       408  408.0\n",
       "6                0007      1066          550    11       495  495.0\n",
       "7                0008       914          434    12       463  463.0\n",
       "8                0009       834          447     8       371  371.0\n",
       "9                0010       569          316     3       244  244.0\n",
       "10               0011       728          316     2       405  405.0\n",
       "11               0012       892          381     4       501  501.0\n",
       "12               0013      1206          893     1       303  303.0\n",
       "13               0014       740          533     6       198  198.0\n",
       "14               0015      1182          609     7       558  558.0\n",
       "15               0016       725          327     1       395  395.0\n",
       "16               0017       796          346     7       440  440.0\n",
       "17               0018       890          584     6       294  294.0"
      ]
     },
     "execution_count": 450,
     "metadata": {},
     "output_type": "execute_result"
    }
   ],
   "source": [
    "#ouverture data\n",
    "import pandas as pd\n",
    "\n",
    "#europeennes\n",
    "df_2019 = pd.read_parquet('~/data/elections/eda/minieda/Vernon/2019_euro_t1.parquet')\n",
    "df_2024_e =pd.read_parquet('~/data/elections/eda/minieda/Vernon/2024_euro_t1.parquet')\n",
    "\n",
    "# Exemple d'analyse\n",
    "dict_part = {\n",
    "    'Inscrits' : 'first',\n",
    "    'Abstentions': 'first', \n",
    "    'Nuls' : 'first' , \n",
    "    'Abstentions' : 'first',\n",
    "    'Exprimés': 'first', \n",
    "    'Voix' : 'sum'\n",
    "    }\n",
    "#print(df_2019.head(50))\n",
    "grouped_2019 = df_2019.groupby('Code du b.vote_df1').agg(dict_part).reset_index()\n",
    "grouped_2024_e = df_2024_e.groupby('Code du b.vote_df1').agg(dict_part).reset_index()\n",
    "\n",
    "participation_2019 = (grouped_2019['Inscrits'] - grouped_2019['Abstentions'])/ grouped_2019['Inscrits']\n",
    "participation_2024_e = (grouped_2024_e['Inscrits'] - grouped_2024_e['Abstentions']) / grouped_2024_e['Inscrits']\n",
    "\n",
    "Inscrits_vernon_2019 = grouped_2019['Inscrits'].sum()\n",
    "Abstentions_vernon_2019 = grouped_2019['Abstentions'].sum()\n",
    "Inscrits_vernon_2024_e = grouped_2024_e['Inscrits'].sum()\n",
    "Abstentions_vernon_2024_e = grouped_2024_e['Abstentions'].sum()\n",
    "Participation_vernon_2019 = (Inscrits_vernon_2019-Abstentions_vernon_2019)/Inscrits_vernon_2019\n",
    "Participation_vernon_2024_e = (Inscrits_vernon_2024_e-Abstentions_vernon_2024_e)/Inscrits_vernon_2024_e\n",
    "diff_inscrits = grouped_2024_e['Inscrits']-grouped_2019['Inscrits']\n",
    "#Inscrits_vernon_2019, Abstentions_vernon_2019, Participation_vernon_2019\n",
    "\n",
    "print(\" Élections européennes 2019 Vernon:\\n Inscrits :\",Inscrits_vernon_2019,\n",
    "      \"Abstentions :\",Abstentions_vernon_2019,\"Participation :\",format(100*Participation_vernon_2019,'.1f'),\"%\\n\",\n",
    "      \"Élections européennes 2024 Vernon:\\n Inscrits :\",Inscrits_vernon_2024_e,\n",
    "      \"Abstentions :\",Abstentions_vernon_2024_e,\"Participation :\",format(100*Participation_vernon_2024_e,'.1f'),\"%\\n\")\n",
    "\n",
    "#print(Inscrits_2019)\n",
    "#.agg({'Voix' : 'sum', 'Libellé Abrégé Liste' : }))\n",
    "#Inscrits_2024 = df_2024_e.groupby('Inscrits')['Voix'].sum()\n",
    "#print(Inscrits_2019, Inscrits_2024)\n",
    "\n",
    "grouped_2019"
   ]
  },
  {
   "cell_type": "markdown",
   "metadata": {},
   "source": [
    "### 2. Visualisations en trois blocs (Populaire, Libéral, Identitaire) en 2019"
   ]
  },
  {
   "cell_type": "code",
   "execution_count": 438,
   "metadata": {},
   "outputs": [
    {
     "name": "stderr",
     "output_type": "stream",
     "text": [
      "/var/folders/gq/3q67kslj5_lb13yn9xswy0740000gn/T/ipykernel_10052/3957897041.py:97: UserWarning:\n",
      "\n",
      "FigureCanvasAgg is non-interactive, and thus cannot be shown\n",
      "\n"
     ]
    },
    {
     "data": {
      "image/png": "[encoded data removed]",
      "text/plain": [
       "<Figure size 900x800 with 1 Axes>"
      ]
     },
     "metadata": {},
     "output_type": "display_data"
    }
   ],
   "source": [
    "#dataframe des listes ayant obtenu des sièges en 2019\n",
    "manon_2019 = df_2019[df_2019['Nom Tête de Liste'] == 'AUBRY Manon']\n",
    "bardella_2019 = df_2019[df_2019['Nom Tête de Liste'] == 'BARDELLA Jordan']\n",
    "macron_2019 = df_2019[df_2019['Nom Tête de Liste'] == 'LOISEAU Nathalie']\n",
    "glucks_2019 =  df_2019[df_2019['Nom Tête de Liste'] == 'GLUCKSMANN Raphaël']\n",
    "ecolo_2019 = df_2019[df_2019['Nom Tête de Liste'] == 'JADOT Yannick']\n",
    "lr_2019 = df_2019[df_2019['Nom Tête de Liste'] == 'BELLAMY François-Xavier']\n",
    "\n",
    "# autres dataframe de listes n'ayant pas obtenu de députés,\n",
    "# utiles pour la lecture en blocs et pour les rapports de force...\n",
    "coco_2019 = df_2019[df_2019['Nom Tête de Liste'] == 'BROSSAT Ian']\n",
    "udi_2019 = df_2019[df_2019['Nom Tête de Liste'] == 'LAGARDE Jean-Christophe']\n",
    "patriotes_2019 = df_2019[df_2019['Nom Tête de Liste'] == 'PHILIPPOT Florian']\n",
    "nda_2019 = df_2019[df_2019['Nom Tête de Liste'] == 'DUPONT-AIGNAN Nicolas']\n",
    "\n",
    "# df de la lecture en blocs: \n",
    "# ug (union de la gauche donne bloc populaire), \n",
    "# udc (union droite-centre, donne bloc liberal), \n",
    "# udd (union des droites, donne bloc identitaire)\n",
    "# pour les européennes cette vision est limitée puisque les députés vont siéger dans des groupes différents\n",
    "ug_2019 = df_2019[(df_2019['Nom Tête de Liste'] == 'AUBRY Manon') \n",
    "                         | (df_2019['Nom Tête de Liste'] == 'GLUCKSMANN Raphaël')\n",
    "                         | (df_2019['Nom Tête de Liste'] == 'JADOT Yannick')\n",
    "                         | (df_2019['Nom Tête de Liste'] == 'BROSSAT Ian')] # dataset union de la gauche\n",
    "\n",
    "from dicts import dict_listes_2019\n",
    "populaire_2019 = ug_2019.groupby('Code du b.vote_df1').agg(dict_listes_2019).reset_index()\n",
    "udc_2019 = df_2019[(df_2019['Nom Tête de Liste'] == 'LOISEAU Nathalie')\n",
    "                       | (df_2019['Nom Tête de Liste'] == 'LAGARDE Jean-Christophe')\n",
    "                       | (df_2019['Nom Tête de Liste'] == 'BELLAMY François-Xavier')\n",
    "                         ] # dataset union droite et centre\n",
    "udd_2019 = df_2019[(df_2019['Nom Tête de Liste'] == 'PHILIPPOT Florian')\n",
    "                       | (df_2019['Nom Tête de Liste'] == 'DUPONT-AIGNAN Nicolas')\n",
    "                       | (df_2019['Nom Tête de Liste'] == 'BARDELLA Jordan')\n",
    "                        ] # dataset union des droites\n",
    "\n",
    "liberal_2019 = udc_2019.groupby('Code du b.vote_df1').agg(dict_listes_2019).reset_index()\n",
    "identitaire_2019 = udd_2019.groupby('Code du b.vote_df1').agg(dict_listes_2019).reset_index()\n",
    "identitaire_2019\n",
    "\n",
    "import matplotlib.pyplot as plt\n",
    "import plotly.express as px\n",
    "import numpy as np\n",
    "#import geopandas as gpd\n",
    "\n",
    "df_p19 = pd.DataFrame(populaire_2019)\n",
    "df_l19 = pd.DataFrame(liberal_2019)\n",
    "df_i19 = pd.DataFrame(identitaire_2019)\n",
    "\n",
    "# merge des dataframe pour la représentation en blocs\n",
    "resultats_Vernon_2019_tmp = pd.merge(\n",
    "    df_p19, df_l19,\n",
    "    on=[\"Code du b.vote_df1\", \"Libellé de la commune\", \"Inscrits\", \"Abstentions\", \"Nuls\", \"Exprimés\"],\n",
    "    suffixes=['_BlocPopulaire', '_BlocLiberal']\n",
    ")\n",
    "resultats_Vernon_2019 = pd.merge(\n",
    "    resultats_Vernon_2019_tmp,df_i19,\n",
    "    on=[\"Code du b.vote_df1\", \"Libellé de la commune\", \"Inscrits\", \"Abstentions\", \"Nuls\", \"Exprimés\"])\n",
    "resultats_Vernon_2019.rename(columns={\"Voix\": \"Voix_BlocIdentitaire\"}, inplace=True)\n",
    "\n",
    "\n",
    "# Créer un graphique à barres empilées\n",
    "# Préparer les données pour le graphique\n",
    "labels = resultats_Vernon_2019[\"Libellé de la commune\"] + \" \" + resultats_Vernon_2019[\"Code du b.vote_df1\"]\n",
    "inscr_2019 = resultats_Vernon_2019[\"Inscrits\"] \n",
    "votes_p19 = resultats_Vernon_2019[\"Voix_BlocPopulaire\"] / inscr_2019\n",
    "votes_l19 = resultats_Vernon_2019[\"Voix_BlocLiberal\"]  / inscr_2019\n",
    "votes_i19 = resultats_Vernon_2019[\"Voix_BlocIdentitaire\"]/  inscr_2019\n",
    "abs_2019 = resultats_Vernon_2019[\"Abstentions\"]  / inscr_2019\n",
    "bloc_pop19 = \"{:3.1f}\".format(100*resultats_Vernon_2019[\"Voix_BlocPopulaire\"].sum()/inscr_2019.sum())\n",
    "bloc_lib19 = \"{:3.1f}\".format(100*resultats_Vernon_2019[\"Voix_BlocLiberal\"].sum()/inscr_2019.sum())\n",
    "bloc_id19 = \"{:3.1f}\".format(100*resultats_Vernon_2019[\"Voix_BlocIdentitaire\"].sum()/inscr_2019.sum())\n",
    "reste_2019 = ( 1 - abs_2019 - votes_i19 - votes_l19 - votes_p19 )  #/resultats_Vernon_2019[\"Exprimés\"]\n",
    "bloc_reste_2019 =  \"{:3.1f}\".format(100*(resultats_Vernon_2019['Inscrits'].sum() - resultats_Vernon_2019[\"Abstentions\"].sum() - resultats_Vernon_2019[\"Voix_BlocPopulaire\"].sum() - resultats_Vernon_2019[\"Voix_BlocLiberal\"].sum() - resultats_Vernon_2019[\"Voix_BlocIdentitaire\"].sum() ) / resultats_Vernon_2019[\"Inscrits\"].sum())\n",
    "abst_2019 = \"{:3.1f}\".format(100*resultats_Vernon_2019[\"Abstentions\"].sum()/inscr_2019.sum())\n",
    "x = np.arange(len(labels))  # Positions des labels sur l'axe x\n",
    "# Créer le graphique en barres empilées\n",
    "fig, ax = plt.subplots(figsize=(9, 8))\n",
    "bar1 = ax.barh(x, votes_p19, label='Bloc Populaire (' + bloc_pop19 +'% des inscrits)' , color='red')\n",
    "bar2 = ax.barh(x, votes_l19, left=votes_p19, label='Bloc Libéral (' + bloc_lib19 +'% des inscrits)', color='blue')\n",
    "bar3 = ax.barh(x, votes_i19, left=votes_l19+votes_p19, label='Bloc Identitaire (' + bloc_id19 +'% des inscrits)',color='black')\n",
    "bar4 = ax.barh(x, reste_2019, left=votes_i19+votes_l19+votes_p19, label='Autres (' + bloc_reste_2019 +'% des inscrits)',color='lightgrey')\n",
    "bar5 = ax.barh(x, abs_2019, left=reste_2019+votes_i19+votes_l19+votes_p19, label='Abstentions (' + abst_2019 +'% des inscrits)',color='grey')\n",
    "\n",
    "# Ajouter les labels et le titre\n",
    "ax.set_ylabel('Commune et bureau de vote')\n",
    "ax.set_xlabel('Voix')\n",
    "ax.set_title('Nombre de voix des trois blocs en 2019')\n",
    "ax.set_yticks(x,labels=labels) #( resultats_Vernon_2019[\"Code du b.vote_df1\"],  ha='right')\n",
    "ax.invert_yaxis()\n",
    "ax.legend(bbox_to_anchor=(1.05, 1), fontsize=11)\n",
    "#plt.legend(bbox_to_anchor=(1.05, 1), fontsize=11)\n",
    "\n",
    "# Afficher le graphique\n",
    "#plt.tight_layout()\n",
    "#plt.show()\n",
    "fig.show()\n"
   ]
  },
  {
   "cell_type": "markdown",
   "metadata": {},
   "source": [
    "Meme manoeuvre avec plotly, plus joli..."
   ]
  },
  {
   "cell_type": "code",
   "execution_count": 439,
   "metadata": {},
   "outputs": [
    {
     "data": {
      "application/vnd.plotly.v1+json": {
       "config": {
        "plotlyServerURL": "https://plot.ly"
       },
       "data": [
        {
         "marker": {
          "color": "crimson",
          "line": {
           "color": "darkred",
           "width": 3
          }
         },
         "name": "Bloc Populaire (12.5% des inscrits)",
         "orientation": "h",
         "type": "bar",
         "x": [
          12.244897959183673,
          13.504823151125404,
          15.007215007215008,
          15.428571428571427,
          16.424418604651162,
          13.771712158808933,
          12.570356472795496,
          13.129102844638949,
          11.870503597122301,
          10.896309314586995,
          12.362637362637363,
          15.582959641255606,
          6.633499170812604,
          7.297297297297297,
          12.436548223350254,
          15.724137931034482,
          13.316582914572864,
          9.550561797752808
         ],
         "y": [
          "0001",
          "0002",
          "0003",
          "0004",
          "0005",
          "0006",
          "0007",
          "0008",
          "0009",
          "0010",
          "0011",
          "0012",
          "0013",
          "0014",
          "0015",
          "0016",
          "0017",
          "0018"
         ]
        },
        {
         "marker": {
          "color": "mediumpurple",
          "line": {
           "color": "purple",
           "width": 3
          }
         },
         "name": "Bloc Libéral (17.3% des inscrits)",
         "orientation": "h",
         "type": "bar",
         "x": [
          20.888355342136855,
          18.756698821007504,
          23.232323232323232,
          26.571428571428573,
          20.203488372093023,
          17.990074441687344,
          15.853658536585366,
          21.553610503282275,
          10.67146282973621,
          11.599297012302284,
          19.230769230769234,
          23.654708520179373,
          5.05804311774461,
          5.135135135135135,
          17.343485617597292,
          23.03448275862069,
          26.256281407035175,
          10.112359550561797
         ],
         "y": [
          "0001",
          "0002",
          "0003",
          "0004",
          "0005",
          "0006",
          "0007",
          "0008",
          "0009",
          "0010",
          "0011",
          "0012",
          "0013",
          "0014",
          "0015",
          "0016",
          "0017",
          "0018"
         ]
        },
        {
         "marker": {
          "color": "navy",
          "line": {
           "color": "midnightblue",
           "width": 3
          }
         },
         "name": "Bloc Identitaire (11.1% des inscrits)",
         "orientation": "h",
         "type": "bar",
         "x": [
          11.28451380552221,
          10.07502679528403,
          9.235209235209235,
          9.142857142857142,
          10.319767441860465,
          13.399503722084367,
          12.851782363977485,
          11.269146608315099,
          15.347721822541965,
          12.82952548330404,
          15.384615384615385,
          11.32286995515695,
          7.79436152570481,
          6.621621621621622,
          12.521150592216582,
          10.620689655172413,
          11.683417085427136,
          8.98876404494382
         ],
         "y": [
          "0001",
          "0002",
          "0003",
          "0004",
          "0005",
          "0006",
          "0007",
          "0008",
          "0009",
          "0010",
          "0011",
          "0012",
          "0013",
          "0014",
          "0015",
          "0016",
          "0017",
          "0018"
         ]
        },
        {
         "marker": {
          "color": "rgba(204, 204, 204, 0.9)",
          "line": {
           "color": "rgba(58, 71, 80, 0.9)",
           "width": 3
          }
         },
         "name": "Autres (7.0% des inscrits)",
         "orientation": "h",
         "type": "bar",
         "x": [
          6.602641056422567,
          7.609860664523039,
          6.3492063492063435,
          7.142857142857142,
          6.250000000000005,
          7.6923076923076925,
          7.129455909943719,
          6.564551422319481,
          8.513189448441247,
          9.138840070298775,
          9.615384615384611,
          6.726457399103144,
          6.467661691542287,
          8.918918918918923,
          6.175972927241961,
          5.5172413793103505,
          5.276381909547731,
          5.730337078651686
         ],
         "y": [
          "0001",
          "0002",
          "0003",
          "0004",
          "0005",
          "0006",
          "0007",
          "0008",
          "0009",
          "0010",
          "0011",
          "0012",
          "0013",
          "0014",
          "0015",
          "0016",
          "0017",
          "0018"
         ]
        },
        {
         "marker": {
          "color": "rgba(84, 84, 84, 0.9)",
          "line": {
           "color": "rgba(58, 71, 80, 1.0)",
           "width": 3
          }
         },
         "name": "Abstentions (52.2% des inscrits)",
         "orientation": "h",
         "type": "bar",
         "x": [
          48.97959183673469,
          50.053590568060024,
          46.17604617604618,
          41.714285714285715,
          46.80232558139535,
          47.146401985111666,
          51.594746716697934,
          47.4835886214442,
          53.597122302158276,
          55.536028119507904,
          43.40659340659341,
          42.71300448430493,
          74.0464344941957,
          72.02702702702702,
          51.52284263959391,
          45.10344827586207,
          43.46733668341709,
          65.61797752808988
         ],
         "y": [
          "0001",
          "0002",
          "0003",
          "0004",
          "0005",
          "0006",
          "0007",
          "0008",
          "0009",
          "0010",
          "0011",
          "0012",
          "0013",
          "0014",
          "0015",
          "0016",
          "0017",
          "0018"
         ]
        }
       ],
       "layout": {
        "barmode": "stack",
        "legend": {
         "title": {
          "font": {
           "size": 18
          },
          "text": "Légende"
         }
        },
        "template": {
         "data": {
          "bar": [
           {
            "error_x": {
             "color": "#2a3f5f"
            },
            "error_y": {
             "color": "#2a3f5f"
            },
            "marker": {
             "line": {
              "color": "#E5ECF6",
              "width": 0.5
             },
             "pattern": {
              "fillmode": "overlay",
              "size": 10,
              "solidity": 0.2
             }
            },
            "type": "bar"
           }
          ],
          "barpolar": [
           {
            "marker": {
             "line": {
              "color": "#E5ECF6",
              "width": 0.5
             },
             "pattern": {
              "fillmode": "overlay",
              "size": 10,
              "solidity": 0.2
             }
            },
            "type": "barpolar"
           }
          ],
          "carpet": [
           {
            "aaxis": {
             "endlinecolor": "#2a3f5f",
             "gridcolor": "white",
             "linecolor": "white",
             "minorgridcolor": "white",
             "startlinecolor": "#2a3f5f"
            },
            "baxis": {
             "endlinecolor": "#2a3f5f",
             "gridcolor": "white",
             "linecolor": "white",
             "minorgridcolor": "white",
             "startlinecolor": "#2a3f5f"
            },
            "type": "carpet"
           }
          ],
          "choropleth": [
           {
            "colorbar": {
             "outlinewidth": 0,
             "ticks": ""
            },
            "type": "choropleth"
           }
          ],
          "contour": [
           {
            "colorbar": {
             "outlinewidth": 0,
             "ticks": ""
            },
            "colorscale": [
             [
              0,
              "#0d0887"
             ],
             [
              0.1111111111111111,
              "#46039f"
             ],
             [
              0.2222222222222222,
              "#7201a8"
             ],
             [
              0.3333333333333333,
              "#9c179e"
             ],
             [
              0.4444444444444444,
              "#bd3786"
             ],
             [
              0.5555555555555556,
              "#d8576b"
             ],
             [
              0.6666666666666666,
              "#ed7953"
             ],
             [
              0.7777777777777778,
              "#fb9f3a"
             ],
             [
              0.8888888888888888,
              "#fdca26"
             ],
             [
              1,
              "#f0f921"
             ]
            ],
            "type": "contour"
           }
          ],
          "contourcarpet": [
           {
            "colorbar": {
             "outlinewidth": 0,
             "ticks": ""
            },
            "type": "contourcarpet"
           }
          ],
          "heatmap": [
           {
            "colorbar": {
             "outlinewidth": 0,
             "ticks": ""
            },
            "colorscale": [
             [
              0,
              "#0d0887"
             ],
             [
              0.1111111111111111,
              "#46039f"
             ],
             [
              0.2222222222222222,
              "#7201a8"
             ],
             [
              0.3333333333333333,
              "#9c179e"
             ],
             [
              0.4444444444444444,
              "#bd3786"
             ],
             [
              0.5555555555555556,
              "#d8576b"
             ],
             [
              0.6666666666666666,
              "#ed7953"
             ],
             [
              0.7777777777777778,
              "#fb9f3a"
             ],
             [
              0.8888888888888888,
              "#fdca26"
             ],
             [
              1,
              "#f0f921"
             ]
            ],
            "type": "heatmap"
           }
          ],
          "heatmapgl": [
           {
            "colorbar": {
             "outlinewidth": 0,
             "ticks": ""
            },
            "colorscale": [
             [
              0,
              "#0d0887"
             ],
             [
              0.1111111111111111,
              "#46039f"
             ],
             [
              0.2222222222222222,
              "#7201a8"
             ],
             [
              0.3333333333333333,
              "#9c179e"
             ],
             [
              0.4444444444444444,
              "#bd3786"
             ],
             [
              0.5555555555555556,
              "#d8576b"
             ],
             [
              0.6666666666666666,
              "#ed7953"
             ],
             [
              0.7777777777777778,
              "#fb9f3a"
             ],
             [
              0.8888888888888888,
              "#fdca26"
             ],
             [
              1,
              "#f0f921"
             ]
            ],
            "type": "heatmapgl"
           }
          ],
          "histogram": [
           {
            "marker": {
             "pattern": {
              "fillmode": "overlay",
              "size": 10,
              "solidity": 0.2
             }
            },
            "type": "histogram"
           }
          ],
          "histogram2d": [
           {
            "colorbar": {
             "outlinewidth": 0,
             "ticks": ""
            },
            "colorscale": [
             [
              0,
              "#0d0887"
             ],
             [
              0.1111111111111111,
              "#46039f"
             ],
             [
              0.2222222222222222,
              "#7201a8"
             ],
             [
              0.3333333333333333,
              "#9c179e"
             ],
             [
              0.4444444444444444,
              "#bd3786"
             ],
             [
              0.5555555555555556,
              "#d8576b"
             ],
             [
              0.6666666666666666,
              "#ed7953"
             ],
             [
              0.7777777777777778,
              "#fb9f3a"
             ],
             [
              0.8888888888888888,
              "#fdca26"
             ],
             [
              1,
              "#f0f921"
             ]
            ],
            "type": "histogram2d"
           }
          ],
          "histogram2dcontour": [
           {
            "colorbar": {
             "outlinewidth": 0,
             "ticks": ""
            },
            "colorscale": [
             [
              0,
              "#0d0887"
             ],
             [
              0.1111111111111111,
              "#46039f"
             ],
             [
              0.2222222222222222,
              "#7201a8"
             ],
             [
              0.3333333333333333,
              "#9c179e"
             ],
             [
              0.4444444444444444,
              "#bd3786"
             ],
             [
              0.5555555555555556,
              "#d8576b"
             ],
             [
              0.6666666666666666,
              "#ed7953"
             ],
             [
              0.7777777777777778,
              "#fb9f3a"
             ],
             [
              0.8888888888888888,
              "#fdca26"
             ],
             [
              1,
              "#f0f921"
             ]
            ],
            "type": "histogram2dcontour"
           }
          ],
          "mesh3d": [
           {
            "colorbar": {
             "outlinewidth": 0,
             "ticks": ""
            },
            "type": "mesh3d"
           }
          ],
          "parcoords": [
           {
            "line": {
             "colorbar": {
              "outlinewidth": 0,
              "ticks": ""
             }
            },
            "type": "parcoords"
           }
          ],
          "pie": [
           {
            "automargin": true,
            "type": "pie"
           }
          ],
          "scatter": [
           {
            "fillpattern": {
             "fillmode": "overlay",
             "size": 10,
             "solidity": 0.2
            },
            "type": "scatter"
           }
          ],
          "scatter3d": [
           {
            "line": {
             "colorbar": {
              "outlinewidth": 0,
              "ticks": ""
             }
            },
            "marker": {
             "colorbar": {
              "outlinewidth": 0,
              "ticks": ""
             }
            },
            "type": "scatter3d"
           }
          ],
          "scattercarpet": [
           {
            "marker": {
             "colorbar": {
              "outlinewidth": 0,
              "ticks": ""
             }
            },
            "type": "scattercarpet"
           }
          ],
          "scattergeo": [
           {
            "marker": {
             "colorbar": {
              "outlinewidth": 0,
              "ticks": ""
             }
            },
            "type": "scattergeo"
           }
          ],
          "scattergl": [
           {
            "marker": {
             "colorbar": {
              "outlinewidth": 0,
              "ticks": ""
             }
            },
            "type": "scattergl"
           }
          ],
          "scattermapbox": [
           {
            "marker": {
             "colorbar": {
              "outlinewidth": 0,
              "ticks": ""
             }
            },
            "type": "scattermapbox"
           }
          ],
          "scatterpolar": [
           {
            "marker": {
             "colorbar": {
              "outlinewidth": 0,
              "ticks": ""
             }
            },
            "type": "scatterpolar"
           }
          ],
          "scatterpolargl": [
           {
            "marker": {
             "colorbar": {
              "outlinewidth": 0,
              "ticks": ""
             }
            },
            "type": "scatterpolargl"
           }
          ],
          "scatterternary": [
           {
            "marker": {
             "colorbar": {
              "outlinewidth": 0,
              "ticks": ""
             }
            },
            "type": "scatterternary"
           }
          ],
          "surface": [
           {
            "colorbar": {
             "outlinewidth": 0,
             "ticks": ""
            },
            "colorscale": [
             [
              0,
              "#0d0887"
             ],
             [
              0.1111111111111111,
              "#46039f"
             ],
             [
              0.2222222222222222,
              "#7201a8"
             ],
             [
              0.3333333333333333,
              "#9c179e"
             ],
             [
              0.4444444444444444,
              "#bd3786"
             ],
             [
              0.5555555555555556,
              "#d8576b"
             ],
             [
              0.6666666666666666,
              "#ed7953"
             ],
             [
              0.7777777777777778,
              "#fb9f3a"
             ],
             [
              0.8888888888888888,
              "#fdca26"
             ],
             [
              1,
              "#f0f921"
             ]
            ],
            "type": "surface"
           }
          ],
          "table": [
           {
            "cells": {
             "fill": {
              "color": "#EBF0F8"
             },
             "line": {
              "color": "white"
             }
            },
            "header": {
             "fill": {
              "color": "#C8D4E3"
             },
             "line": {
              "color": "white"
             }
            },
            "type": "table"
           }
          ]
         },
         "layout": {
          "annotationdefaults": {
           "arrowcolor": "#2a3f5f",
           "arrowhead": 0,
           "arrowwidth": 1
          },
          "autotypenumbers": "strict",
          "coloraxis": {
           "colorbar": {
            "outlinewidth": 0,
            "ticks": ""
           }
          },
          "colorscale": {
           "diverging": [
            [
             0,
             "#8e0152"
            ],
            [
             0.1,
             "#c51b7d"
            ],
            [
             0.2,
             "#de77ae"
            ],
            [
             0.3,
             "#f1b6da"
            ],
            [
             0.4,
             "#fde0ef"
            ],
            [
             0.5,
             "#f7f7f7"
            ],
            [
             0.6,
             "#e6f5d0"
            ],
            [
             0.7,
             "#b8e186"
            ],
            [
             0.8,
             "#7fbc41"
            ],
            [
             0.9,
             "#4d9221"
            ],
            [
             1,
             "#276419"
            ]
           ],
           "sequential": [
            [
             0,
             "#0d0887"
            ],
            [
             0.1111111111111111,
             "#46039f"
            ],
            [
             0.2222222222222222,
             "#7201a8"
            ],
            [
             0.3333333333333333,
             "#9c179e"
            ],
            [
             0.4444444444444444,
             "#bd3786"
            ],
            [
             0.5555555555555556,
             "#d8576b"
            ],
            [
             0.6666666666666666,
             "#ed7953"
            ],
            [
             0.7777777777777778,
             "#fb9f3a"
            ],
            [
             0.8888888888888888,
             "#fdca26"
            ],
            [
             1,
             "#f0f921"
            ]
           ],
           "sequentialminus": [
            [
             0,
             "#0d0887"
            ],
            [
             0.1111111111111111,
             "#46039f"
            ],
            [
             0.2222222222222222,
             "#7201a8"
            ],
            [
             0.3333333333333333,
             "#9c179e"
            ],
            [
             0.4444444444444444,
             "#bd3786"
            ],
            [
             0.5555555555555556,
             "#d8576b"
            ],
            [
             0.6666666666666666,
             "#ed7953"
            ],
            [
             0.7777777777777778,
             "#fb9f3a"
            ],
            [
             0.8888888888888888,
             "#fdca26"
            ],
            [
             1,
             "#f0f921"
            ]
           ]
          },
          "colorway": [
           "#636efa",
           "#EF553B",
           "#00cc96",
           "#ab63fa",
           "#FFA15A",
           "#19d3f3",
           "#FF6692",
           "#B6E880",
           "#FF97FF",
           "#FECB52"
          ],
          "font": {
           "color": "#2a3f5f"
          },
          "geo": {
           "bgcolor": "white",
           "lakecolor": "white",
           "landcolor": "#E5ECF6",
           "showlakes": true,
           "showland": true,
           "subunitcolor": "white"
          },
          "hoverlabel": {
           "align": "left"
          },
          "hovermode": "closest",
          "mapbox": {
           "style": "light"
          },
          "paper_bgcolor": "white",
          "plot_bgcolor": "#E5ECF6",
          "polar": {
           "angularaxis": {
            "gridcolor": "white",
            "linecolor": "white",
            "ticks": ""
           },
           "bgcolor": "#E5ECF6",
           "radialaxis": {
            "gridcolor": "white",
            "linecolor": "white",
            "ticks": ""
           }
          },
          "scene": {
           "xaxis": {
            "backgroundcolor": "#E5ECF6",
            "gridcolor": "white",
            "gridwidth": 2,
            "linecolor": "white",
            "showbackground": true,
            "ticks": "",
            "zerolinecolor": "white"
           },
           "yaxis": {
            "backgroundcolor": "#E5ECF6",
            "gridcolor": "white",
            "gridwidth": 2,
            "linecolor": "white",
            "showbackground": true,
            "ticks": "",
            "zerolinecolor": "white"
           },
           "zaxis": {
            "backgroundcolor": "#E5ECF6",
            "gridcolor": "white",
            "gridwidth": 2,
            "linecolor": "white",
            "showbackground": true,
            "ticks": "",
            "zerolinecolor": "white"
           }
          },
          "shapedefaults": {
           "line": {
            "color": "#2a3f5f"
           }
          },
          "ternary": {
           "aaxis": {
            "gridcolor": "white",
            "linecolor": "white",
            "ticks": ""
           },
           "baxis": {
            "gridcolor": "white",
            "linecolor": "white",
            "ticks": ""
           },
           "bgcolor": "#E5ECF6",
           "caxis": {
            "gridcolor": "white",
            "linecolor": "white",
            "ticks": ""
           }
          },
          "title": {
           "x": 0.05
          },
          "xaxis": {
           "automargin": true,
           "gridcolor": "white",
           "linecolor": "white",
           "ticks": "",
           "title": {
            "standoff": 15
           },
           "zerolinecolor": "white",
           "zerolinewidth": 2
          },
          "yaxis": {
           "automargin": true,
           "gridcolor": "white",
           "linecolor": "white",
           "ticks": "",
           "title": {
            "standoff": 15
           },
           "zerolinecolor": "white",
           "zerolinewidth": 2
          }
         }
        },
        "title": {
         "automargin": false,
         "font": {
          "family": "Arial",
          "size": 30
         },
         "text": "Électorats des trois blocs (et de l'abstention) en 2019",
         "x": 0.43,
         "xanchor": "center",
         "y": 0.88,
         "yanchor": "top"
        },
        "xaxis": {
         "title": {
          "font": {
           "size": 20
          },
          "text": "% du nombre d'inscrits"
         }
        },
        "yaxis": {
         "autorange": "reversed",
         "title": {
          "font": {
           "size": 20
          },
          "text": "Bureaux de vote de Vernon"
         }
        }
       }
      }
     },
     "metadata": {},
     "output_type": "display_data"
    }
   ],
   "source": [
    "import plotly.graph_objects as go\n",
    "\n",
    "inscr_2019 = resultats_Vernon_2019[\"Inscrits\"] \n",
    "votes_p19 = resultats_Vernon_2019[\"Voix_BlocPopulaire\"] / inscr_2019\n",
    "votes_l19 = resultats_Vernon_2019[\"Voix_BlocLiberal\"]  / inscr_2019\n",
    "votes_i19 = resultats_Vernon_2019[\"Voix_BlocIdentitaire\"]/  inscr_2019\n",
    "abs_2019 = resultats_Vernon_2019[\"Abstentions\"]  / inscr_2019\n",
    "\n",
    "fig = go.Figure()\n",
    "fig.add_trace(go.Bar( #bloc pop\n",
    "    y=populaire_2019[\"Code du b.vote_df1\"],\n",
    "    x=100*votes_p19,\n",
    "    name='Bloc Populaire (' + bloc_pop19 +'% des inscrits)',\n",
    "    orientation='h',\n",
    "    marker=dict(\n",
    "        color='crimson',#'rgba(206, 14, 31, 0.9)', 'rgba(128, 1, 1, 1.0)'\n",
    "        line=dict(color='darkred', width=3)\n",
    "    )\n",
    "))\n",
    "fig.add_trace(go.Bar( # bloc lib\n",
    "    y=populaire_2019[\"Code du b.vote_df1\"],\n",
    "    x=100*votes_l19,\n",
    "    name='Bloc Libéral (' + bloc_lib19 +'% des inscrits)',\n",
    "    orientation='h',\n",
    "    marker=dict(\n",
    "        color=\"mediumpurple\",#'rgba(145, 1, 229, 0.6)',  'rgba(158, 20, 200, 1.0)'\n",
    "        line=dict(color='purple', width=3)\n",
    "    )\n",
    "))\n",
    "fig.add_trace(go.Bar( # bloc lib\n",
    "    y=populaire_2019[\"Code du b.vote_df1\"],\n",
    "    x=100*votes_i19,\n",
    "    name='Bloc Identitaire (' + bloc_id19 +'% des inscrits)',\n",
    "    orientation='h',\n",
    "    marker=dict(\n",
    "        color='navy',#'rgba(10, 1, 150, 0.8)','rgba(4, 2, 136, 1.0)'\n",
    "        line=dict(color='midnightblue', width=3)\n",
    "    )\n",
    "))\n",
    "fig.add_trace(go.Bar( # bloc lib\n",
    "    y=populaire_2019[\"Code du b.vote_df1\"],\n",
    "    x=100*reste_2019,\n",
    "    name='Autres (' + bloc_reste_2019 +'% des inscrits)',\n",
    "    orientation='h',\n",
    "    marker=dict(\n",
    "        color='rgba(204, 204, 204, 0.9)',\n",
    "        line=dict(color='rgba(58, 71, 80, 0.9)', width=3)\n",
    "    )\n",
    "))\n",
    "fig.add_trace(go.Bar( # bloc lib\n",
    "    y=populaire_2019[\"Code du b.vote_df1\"],\n",
    "    x=100*abs_2019,\n",
    "    name='Abstentions (' + abst_2019 +'% des inscrits)',\n",
    "    orientation='h',\n",
    "    marker=dict(\n",
    "        color='rgba(84, 84, 84, 0.9)',\n",
    "        line=dict(color='rgba(58, 71, 80, 1.0)', width=3)\n",
    "    )\n",
    "))\n",
    "\n",
    "fig.update_yaxes(\n",
    "    autorange='reversed'\n",
    ")\n",
    "xaxis_t = \"% du nombre d'inscrits\"\n",
    "yaxis_t = \"Bureaux de vote de \"+str(resultats_Vernon_2019[\"Libellé de la commune\"][0])\n",
    "fig.update_layout(\n",
    "    barmode='stack',\n",
    "    yaxis_title=dict(text=yaxis_t,font=dict(size=20)),\n",
    "    xaxis_title=dict(text=xaxis_t,font=dict(size=20)),\n",
    "    title_font_family=\"Arial\",\n",
    "    title_font_size=26,\n",
    "    title=dict(text=\"Électorats des trois blocs (et de l'abstention) en 2019\", font=dict(size=30), automargin=False,y=0.88,x=0.43,\n",
    "        xanchor= 'center',\n",
    "        yanchor= 'top'),\n",
    "    legend_title=dict(text=\"Légende\",font=dict(size=18))\n",
    "    )\n",
    "#fig = px.bar(populaire_2019,populaire_2019['Voix'], populaire_2019['Code du b.vote_df1'],  title='Résultats par commune',orientation='h')\n",
    "#fig.show()\n",
    "#resultats_Vernon_2019[\"Libellé de la commune\"][0]\n"
   ]
  },
  {
   "cell_type": "markdown",
   "metadata": {},
   "source": [
    "3. Visualisation en listes 2019"
   ]
  },
  {
   "cell_type": "code",
   "execution_count": 447,
   "metadata": {},
   "outputs": [
    {
     "data": {
      "text/plain": [
       "0      11.0\n",
       "1      39.0\n",
       "2     -37.0\n",
       "3     -92.0\n",
       "4     -14.0\n",
       "5     -10.0\n",
       "6      76.0\n",
       "7     -12.0\n",
       "8      92.0\n",
       "9      81.0\n",
       "10    -82.0\n",
       "11   -110.0\n",
       "12    600.0\n",
       "13    344.0\n",
       "14     66.0\n",
       "15    -65.0\n",
       "16    -84.0\n",
       "17    302.0\n",
       "dtype: float64"
      ]
     },
     "execution_count": 447,
     "metadata": {},
     "output_type": "execute_result"
    }
   ],
   "source": [
    "#construction des dataframes\n",
    "df_m19 = pd.DataFrame(manon_2019)\n",
    "df_g19 = pd.DataFrame(glucks_2019)\n",
    "df_e19 = pd.DataFrame(ecolo_2019)\n",
    "df_em19= pd.DataFrame(macron_2019)\n",
    "df_lr19= pd.DataFrame(lr_2019)\n",
    "df_j19 = pd.DataFrame(bardella_2019)\n",
    "\n",
    "mask_autres = df_2019['Nom Tête de Liste'].isin(\n",
    "    ['AUBRY Manon',\n",
    "    'LOISEAU Nathalie', \n",
    "    'BARDELLA Jordan',\n",
    "    'GLUCKSMANN Raphaël',\n",
    "    'JADOT Yannick',\n",
    "    'BELLAMY François-Xavier'])\n",
    "df_autres2019 = df_2019[~mask_autres].groupby('Code du b.vote_df1').agg(dict_part).reset_index()\n",
    "#df_autres2019.groupby('Code du b.vote_df1').agg(dict_part).reset_index()\n",
    "#print(df_autres2019['Inscrits'].unique().sum() , df_autres2019['Voix'].sum(),grouped_2019['Voix'].sum())\n",
    "\n",
    "\n"
   ]
  },
  {
   "cell_type": "code",
   "execution_count": 442,
   "metadata": {},
   "outputs": [
    {
     "data": {
      "application/vnd.plotly.v1+json": {
       "config": {
        "plotlyServerURL": "https://plot.ly"
       },
       "data": [
        {
         "marker": {
          "color": "crimson",
          "line": {
           "color": "darkred",
           "width": 3
          }
         },
         "name": "AUBRY Manon (2.3% des inscrits)",
         "orientation": "h",
         "type": "bar",
         "x": [
          2.1608643457382954,
          2.465166130760986,
          2.1645021645021645,
          1.2857142857142856,
          2.3255813953488373,
          1.1166253101736971,
          2.720450281425891,
          2.0787746170678334,
          2.7577937649880093,
          2.10896309314587,
          1.2362637362637363,
          2.0179372197309418,
          2.902155887230514,
          2.4324324324324325,
          2.199661590524535,
          1.5172413793103448,
          1.7587939698492463,
          4.606741573033708
         ],
         "y": [
          "0001",
          "0002",
          "0003",
          "0004",
          "0005",
          "0006",
          "0007",
          "0008",
          "0009",
          "0010",
          "0011",
          "0012",
          "0013",
          "0014",
          "0015",
          "0016",
          "0017",
          "0018"
         ]
        },
        {
         "marker": {
          "color": "lightpink",
          "line": {
           "color": "deeppink",
           "width": 3
          }
         },
         "name": "GLUCKSMANN Raphaël (2.7% des inscrits)",
         "orientation": "h",
         "type": "bar",
         "x": [
          2.1608643457382954,
          2.786709539121115,
          3.0303030303030303,
          3.1428571428571432,
          4.505813953488372,
          2.481389578163772,
          2.4390243902439024,
          3.063457330415755,
          2.7577937649880093,
          2.460456942003515,
          2.3351648351648353,
          3.2511210762331837,
          1.9071310116086235,
          2.1621621621621623,
          3.1302876480541455,
          2.0689655172413794,
          3.015075376884422,
          1.5730337078651686
         ],
         "y": [
          "0001",
          "0002",
          "0003",
          "0004",
          "0005",
          "0006",
          "0007",
          "0008",
          "0009",
          "0010",
          "0011",
          "0012",
          "0013",
          "0014",
          "0015",
          "0016",
          "0017",
          "0018"
         ]
        },
        {
         "marker": {
          "color": "lightgreen",
          "line": {
           "color": "green",
           "width": 3
          }
         },
         "name": "JADOT Yannick (6.8% des inscrits)",
         "orientation": "h",
         "type": "bar",
         "x": [
          7.202881152460984,
          7.395498392282958,
          9.235209235209235,
          9.857142857142858,
          8.720930232558139,
          9.553349875930522,
          6.0037523452157595,
          7.439824945295405,
          4.796163069544365,
          5.975395430579964,
          7.280219780219781,
          9.641255605381167,
          1.5754560530679935,
          2.4324324324324325,
          6.514382402707277,
          11.310344827586206,
          7.914572864321608,
          3.033707865168539
         ],
         "y": [
          "0001",
          "0002",
          "0003",
          "0004",
          "0005",
          "0006",
          "0007",
          "0008",
          "0009",
          "0010",
          "0011",
          "0012",
          "0013",
          "0014",
          "0015",
          "0016",
          "0017",
          "0018"
         ]
        },
        {
         "marker": {
          "color": "gold",
          "line": {
           "color": "yellow",
           "width": 3
          }
         },
         "name": "LOISEAU Nathalie (12.0% des inscrits)",
         "orientation": "h",
         "type": "bar",
         "x": [
          13.805522208883552,
          12.64737406216506,
          18.037518037518037,
          18.571428571428573,
          14.825581395348838,
          12.158808933002481,
          11.163227016885553,
          15.317286652078774,
          8.273381294964029,
          7.381370826010544,
          13.598901098901099,
          17.713004484304935,
          3.814262023217247,
          3.1081081081081083,
          11.590524534686972,
          16.413793103448278,
          16.457286432160803,
          6.404494382022471
         ],
         "y": [
          "0001",
          "0002",
          "0003",
          "0004",
          "0005",
          "0006",
          "0007",
          "0008",
          "0009",
          "0010",
          "0011",
          "0012",
          "0013",
          "0014",
          "0015",
          "0016",
          "0017",
          "0018"
         ]
        },
        {
         "marker": {
          "color": "lightskyblue",
          "line": {
           "color": "dodgerblue",
           "width": 3
          }
         },
         "name": "BELLAMY François-Xavier (3.9% des inscrits)",
         "orientation": "h",
         "type": "bar",
         "x": [
          5.642256902761105,
          4.823151125401929,
          4.473304473304474,
          6.857142857142858,
          4.505813953488372,
          4.094292803970223,
          3.095684803001876,
          5.032822757111598,
          2.038369304556355,
          2.10896309314587,
          3.296703296703297,
          4.147982062780269,
          0.4975124378109453,
          1.2162162162162162,
          4.314720812182741,
          3.8620689655172415,
          8.417085427135678,
          2.8089887640449436
         ],
         "y": [
          "0001",
          "0002",
          "0003",
          "0004",
          "0005",
          "0006",
          "0007",
          "0008",
          "0009",
          "0010",
          "0011",
          "0012",
          "0013",
          "0014",
          "0015",
          "0016",
          "0017",
          "0018"
         ]
        },
        {
         "marker": {
          "color": "navy",
          "line": {
           "color": "midnightblue",
           "width": 3
          }
         },
         "name": "BARDELLA Jordan (9.2% des inscrits)",
         "orientation": "h",
         "type": "bar",
         "x": [
          9.723889555822328,
          8.681672025723474,
          7.792207792207792,
          7.428571428571429,
          9.011627906976743,
          11.538461538461538,
          10.037523452157599,
          9.190371991247265,
          13.788968824940047,
          11.423550087873462,
          11.675824175824175,
          9.192825112107624,
          6.218905472636816,
          5.405405405405405,
          10.236886632825719,
          8.689655172413794,
          8.919597989949748,
          7.865168539325842
         ],
         "y": [
          "0001",
          "0002",
          "0003",
          "0004",
          "0005",
          "0006",
          "0007",
          "0008",
          "0009",
          "0010",
          "0011",
          "0012",
          "0013",
          "0014",
          "0015",
          "0016",
          "0017",
          "0018"
         ]
        },
        {
         "marker": {
          "color": "rgba(204, 204, 204, 0.9)",
          "line": {
           "color": "rgba(58, 71, 80, 0.9)",
           "width": 3
          }
         },
         "name": "Autres (7.0% des inscrits)",
         "orientation": "h",
         "type": "bar",
         "x": [
          7200,
          8500,
          5500,
          6600,
          4900,
          7800,
          11700,
          7800,
          8400,
          6500,
          11800,
          9100,
          9900,
          7400,
          10900,
          7700,
          7000,
          6000
         ],
         "y": [
          "0001",
          "0002",
          "0003",
          "0004",
          "0005",
          "0006",
          "0007",
          "0008",
          "0009",
          "0010",
          "0011",
          "0012",
          "0013",
          "0014",
          "0015",
          "0016",
          "0017",
          "0018"
         ]
        },
        {
         "marker": {
          "color": "rgba(84, 84, 84, 0.9)",
          "line": {
           "color": "rgba(58, 71, 80, 1.0)",
           "width": 3
          }
         },
         "name": "Abstentions (52.2% des inscrits)",
         "orientation": "h",
         "type": "bar",
         "x": [
          48.97959183673469,
          50.053590568060024,
          46.17604617604618,
          41.714285714285715,
          46.80232558139535,
          47.146401985111666,
          51.594746716697934,
          47.4835886214442,
          53.597122302158276,
          55.536028119507904,
          43.40659340659341,
          42.71300448430493,
          74.0464344941957,
          72.02702702702702,
          51.52284263959391,
          45.10344827586207,
          43.46733668341709,
          65.61797752808988
         ],
         "y": [
          "0001",
          "0002",
          "0003",
          "0004",
          "0005",
          "0006",
          "0007",
          "0008",
          "0009",
          "0010",
          "0011",
          "0012",
          "0013",
          "0014",
          "0015",
          "0016",
          "0017",
          "0018"
         ]
        }
       ],
       "layout": {
        "barmode": "stack",
        "legend": {
         "title": {
          "font": {
           "size": 18
          },
          "text": "Légende"
         }
        },
        "template": {
         "data": {
          "bar": [
           {
            "error_x": {
             "color": "#2a3f5f"
            },
            "error_y": {
             "color": "#2a3f5f"
            },
            "marker": {
             "line": {
              "color": "#E5ECF6",
              "width": 0.5
             },
             "pattern": {
              "fillmode": "overlay",
              "size": 10,
              "solidity": 0.2
             }
            },
            "type": "bar"
           }
          ],
          "barpolar": [
           {
            "marker": {
             "line": {
              "color": "#E5ECF6",
              "width": 0.5
             },
             "pattern": {
              "fillmode": "overlay",
              "size": 10,
              "solidity": 0.2
             }
            },
            "type": "barpolar"
           }
          ],
          "carpet": [
           {
            "aaxis": {
             "endlinecolor": "#2a3f5f",
             "gridcolor": "white",
             "linecolor": "white",
             "minorgridcolor": "white",
             "startlinecolor": "#2a3f5f"
            },
            "baxis": {
             "endlinecolor": "#2a3f5f",
             "gridcolor": "white",
             "linecolor": "white",
             "minorgridcolor": "white",
             "startlinecolor": "#2a3f5f"
            },
            "type": "carpet"
           }
          ],
          "choropleth": [
           {
            "colorbar": {
             "outlinewidth": 0,
             "ticks": ""
            },
            "type": "choropleth"
           }
          ],
          "contour": [
           {
            "colorbar": {
             "outlinewidth": 0,
             "ticks": ""
            },
            "colorscale": [
             [
              0,
              "#0d0887"
             ],
             [
              0.1111111111111111,
              "#46039f"
             ],
             [
              0.2222222222222222,
              "#7201a8"
             ],
             [
              0.3333333333333333,
              "#9c179e"
             ],
             [
              0.4444444444444444,
              "#bd3786"
             ],
             [
              0.5555555555555556,
              "#d8576b"
             ],
             [
              0.6666666666666666,
              "#ed7953"
             ],
             [
              0.7777777777777778,
              "#fb9f3a"
             ],
             [
              0.8888888888888888,
              "#fdca26"
             ],
             [
              1,
              "#f0f921"
             ]
            ],
            "type": "contour"
           }
          ],
          "contourcarpet": [
           {
            "colorbar": {
             "outlinewidth": 0,
             "ticks": ""
            },
            "type": "contourcarpet"
           }
          ],
          "heatmap": [
           {
            "colorbar": {
             "outlinewidth": 0,
             "ticks": ""
            },
            "colorscale": [
             [
              0,
              "#0d0887"
             ],
             [
              0.1111111111111111,
              "#46039f"
             ],
             [
              0.2222222222222222,
              "#7201a8"
             ],
             [
              0.3333333333333333,
              "#9c179e"
             ],
             [
              0.4444444444444444,
              "#bd3786"
             ],
             [
              0.5555555555555556,
              "#d8576b"
             ],
             [
              0.6666666666666666,
              "#ed7953"
             ],
             [
              0.7777777777777778,
              "#fb9f3a"
             ],
             [
              0.8888888888888888,
              "#fdca26"
             ],
             [
              1,
              "#f0f921"
             ]
            ],
            "type": "heatmap"
           }
          ],
          "heatmapgl": [
           {
            "colorbar": {
             "outlinewidth": 0,
             "ticks": ""
            },
            "colorscale": [
             [
              0,
              "#0d0887"
             ],
             [
              0.1111111111111111,
              "#46039f"
             ],
             [
              0.2222222222222222,
              "#7201a8"
             ],
             [
              0.3333333333333333,
              "#9c179e"
             ],
             [
              0.4444444444444444,
              "#bd3786"
             ],
             [
              0.5555555555555556,
              "#d8576b"
             ],
             [
              0.6666666666666666,
              "#ed7953"
             ],
             [
              0.7777777777777778,
              "#fb9f3a"
             ],
             [
              0.8888888888888888,
              "#fdca26"
             ],
             [
              1,
              "#f0f921"
             ]
            ],
            "type": "heatmapgl"
           }
          ],
          "histogram": [
           {
            "marker": {
             "pattern": {
              "fillmode": "overlay",
              "size": 10,
              "solidity": 0.2
             }
            },
            "type": "histogram"
           }
          ],
          "histogram2d": [
           {
            "colorbar": {
             "outlinewidth": 0,
             "ticks": ""
            },
            "colorscale": [
             [
              0,
              "#0d0887"
             ],
             [
              0.1111111111111111,
              "#46039f"
             ],
             [
              0.2222222222222222,
              "#7201a8"
             ],
             [
              0.3333333333333333,
              "#9c179e"
             ],
             [
              0.4444444444444444,
              "#bd3786"
             ],
             [
              0.5555555555555556,
              "#d8576b"
             ],
             [
              0.6666666666666666,
              "#ed7953"
             ],
             [
              0.7777777777777778,
              "#fb9f3a"
             ],
             [
              0.8888888888888888,
              "#fdca26"
             ],
             [
              1,
              "#f0f921"
             ]
            ],
            "type": "histogram2d"
           }
          ],
          "histogram2dcontour": [
           {
            "colorbar": {
             "outlinewidth": 0,
             "ticks": ""
            },
            "colorscale": [
             [
              0,
              "#0d0887"
             ],
             [
              0.1111111111111111,
              "#46039f"
             ],
             [
              0.2222222222222222,
              "#7201a8"
             ],
             [
              0.3333333333333333,
              "#9c179e"
             ],
             [
              0.4444444444444444,
              "#bd3786"
             ],
             [
              0.5555555555555556,
              "#d8576b"
             ],
             [
              0.6666666666666666,
              "#ed7953"
             ],
             [
              0.7777777777777778,
              "#fb9f3a"
             ],
             [
              0.8888888888888888,
              "#fdca26"
             ],
             [
              1,
              "#f0f921"
             ]
            ],
            "type": "histogram2dcontour"
           }
          ],
          "mesh3d": [
           {
            "colorbar": {
             "outlinewidth": 0,
             "ticks": ""
            },
            "type": "mesh3d"
           }
          ],
          "parcoords": [
           {
            "line": {
             "colorbar": {
              "outlinewidth": 0,
              "ticks": ""
             }
            },
            "type": "parcoords"
           }
          ],
          "pie": [
           {
            "automargin": true,
            "type": "pie"
           }
          ],
          "scatter": [
           {
            "fillpattern": {
             "fillmode": "overlay",
             "size": 10,
             "solidity": 0.2
            },
            "type": "scatter"
           }
          ],
          "scatter3d": [
           {
            "line": {
             "colorbar": {
              "outlinewidth": 0,
              "ticks": ""
             }
            },
            "marker": {
             "colorbar": {
              "outlinewidth": 0,
              "ticks": ""
             }
            },
            "type": "scatter3d"
           }
          ],
          "scattercarpet": [
           {
            "marker": {
             "colorbar": {
              "outlinewidth": 0,
              "ticks": ""
             }
            },
            "type": "scattercarpet"
           }
          ],
          "scattergeo": [
           {
            "marker": {
             "colorbar": {
              "outlinewidth": 0,
              "ticks": ""
             }
            },
            "type": "scattergeo"
           }
          ],
          "scattergl": [
           {
            "marker": {
             "colorbar": {
              "outlinewidth": 0,
              "ticks": ""
             }
            },
            "type": "scattergl"
           }
          ],
          "scattermapbox": [
           {
            "marker": {
             "colorbar": {
              "outlinewidth": 0,
              "ticks": ""
             }
            },
            "type": "scattermapbox"
           }
          ],
          "scatterpolar": [
           {
            "marker": {
             "colorbar": {
              "outlinewidth": 0,
              "ticks": ""
             }
            },
            "type": "scatterpolar"
           }
          ],
          "scatterpolargl": [
           {
            "marker": {
             "colorbar": {
              "outlinewidth": 0,
              "ticks": ""
             }
            },
            "type": "scatterpolargl"
           }
          ],
          "scatterternary": [
           {
            "marker": {
             "colorbar": {
              "outlinewidth": 0,
              "ticks": ""
             }
            },
            "type": "scatterternary"
           }
          ],
          "surface": [
           {
            "colorbar": {
             "outlinewidth": 0,
             "ticks": ""
            },
            "colorscale": [
             [
              0,
              "#0d0887"
             ],
             [
              0.1111111111111111,
              "#46039f"
             ],
             [
              0.2222222222222222,
              "#7201a8"
             ],
             [
              0.3333333333333333,
              "#9c179e"
             ],
             [
              0.4444444444444444,
              "#bd3786"
             ],
             [
              0.5555555555555556,
              "#d8576b"
             ],
             [
              0.6666666666666666,
              "#ed7953"
             ],
             [
              0.7777777777777778,
              "#fb9f3a"
             ],
             [
              0.8888888888888888,
              "#fdca26"
             ],
             [
              1,
              "#f0f921"
             ]
            ],
            "type": "surface"
           }
          ],
          "table": [
           {
            "cells": {
             "fill": {
              "color": "#EBF0F8"
             },
             "line": {
              "color": "white"
             }
            },
            "header": {
             "fill": {
              "color": "#C8D4E3"
             },
             "line": {
              "color": "white"
             }
            },
            "type": "table"
           }
          ]
         },
         "layout": {
          "annotationdefaults": {
           "arrowcolor": "#2a3f5f",
           "arrowhead": 0,
           "arrowwidth": 1
          },
          "autotypenumbers": "strict",
          "coloraxis": {
           "colorbar": {
            "outlinewidth": 0,
            "ticks": ""
           }
          },
          "colorscale": {
           "diverging": [
            [
             0,
             "#8e0152"
            ],
            [
             0.1,
             "#c51b7d"
            ],
            [
             0.2,
             "#de77ae"
            ],
            [
             0.3,
             "#f1b6da"
            ],
            [
             0.4,
             "#fde0ef"
            ],
            [
             0.5,
             "#f7f7f7"
            ],
            [
             0.6,
             "#e6f5d0"
            ],
            [
             0.7,
             "#b8e186"
            ],
            [
             0.8,
             "#7fbc41"
            ],
            [
             0.9,
             "#4d9221"
            ],
            [
             1,
             "#276419"
            ]
           ],
           "sequential": [
            [
             0,
             "#0d0887"
            ],
            [
             0.1111111111111111,
             "#46039f"
            ],
            [
             0.2222222222222222,
             "#7201a8"
            ],
            [
             0.3333333333333333,
             "#9c179e"
            ],
            [
             0.4444444444444444,
             "#bd3786"
            ],
            [
             0.5555555555555556,
             "#d8576b"
            ],
            [
             0.6666666666666666,
             "#ed7953"
            ],
            [
             0.7777777777777778,
             "#fb9f3a"
            ],
            [
             0.8888888888888888,
             "#fdca26"
            ],
            [
             1,
             "#f0f921"
            ]
           ],
           "sequentialminus": [
            [
             0,
             "#0d0887"
            ],
            [
             0.1111111111111111,
             "#46039f"
            ],
            [
             0.2222222222222222,
             "#7201a8"
            ],
            [
             0.3333333333333333,
             "#9c179e"
            ],
            [
             0.4444444444444444,
             "#bd3786"
            ],
            [
             0.5555555555555556,
             "#d8576b"
            ],
            [
             0.6666666666666666,
             "#ed7953"
            ],
            [
             0.7777777777777778,
             "#fb9f3a"
            ],
            [
             0.8888888888888888,
             "#fdca26"
            ],
            [
             1,
             "#f0f921"
            ]
           ]
          },
          "colorway": [
           "#636efa",
           "#EF553B",
           "#00cc96",
           "#ab63fa",
           "#FFA15A",
           "#19d3f3",
           "#FF6692",
           "#B6E880",
           "#FF97FF",
           "#FECB52"
          ],
          "font": {
           "color": "#2a3f5f"
          },
          "geo": {
           "bgcolor": "white",
           "lakecolor": "white",
           "landcolor": "#E5ECF6",
           "showlakes": true,
           "showland": true,
           "subunitcolor": "white"
          },
          "hoverlabel": {
           "align": "left"
          },
          "hovermode": "closest",
          "mapbox": {
           "style": "light"
          },
          "paper_bgcolor": "white",
          "plot_bgcolor": "#E5ECF6",
          "polar": {
           "angularaxis": {
            "gridcolor": "white",
            "linecolor": "white",
            "ticks": ""
           },
           "bgcolor": "#E5ECF6",
           "radialaxis": {
            "gridcolor": "white",
            "linecolor": "white",
            "ticks": ""
           }
          },
          "scene": {
           "xaxis": {
            "backgroundcolor": "#E5ECF6",
            "gridcolor": "white",
            "gridwidth": 2,
            "linecolor": "white",
            "showbackground": true,
            "ticks": "",
            "zerolinecolor": "white"
           },
           "yaxis": {
            "backgroundcolor": "#E5ECF6",
            "gridcolor": "white",
            "gridwidth": 2,
            "linecolor": "white",
            "showbackground": true,
            "ticks": "",
            "zerolinecolor": "white"
           },
           "zaxis": {
            "backgroundcolor": "#E5ECF6",
            "gridcolor": "white",
            "gridwidth": 2,
            "linecolor": "white",
            "showbackground": true,
            "ticks": "",
            "zerolinecolor": "white"
           }
          },
          "shapedefaults": {
           "line": {
            "color": "#2a3f5f"
           }
          },
          "ternary": {
           "aaxis": {
            "gridcolor": "white",
            "linecolor": "white",
            "ticks": ""
           },
           "baxis": {
            "gridcolor": "white",
            "linecolor": "white",
            "ticks": ""
           },
           "bgcolor": "#E5ECF6",
           "caxis": {
            "gridcolor": "white",
            "linecolor": "white",
            "ticks": ""
           }
          },
          "title": {
           "x": 0.05
          },
          "xaxis": {
           "automargin": true,
           "gridcolor": "white",
           "linecolor": "white",
           "ticks": "",
           "title": {
            "standoff": 15
           },
           "zerolinecolor": "white",
           "zerolinewidth": 2
          },
          "yaxis": {
           "automargin": true,
           "gridcolor": "white",
           "linecolor": "white",
           "ticks": "",
           "title": {
            "standoff": 15
           },
           "zerolinecolor": "white",
           "zerolinewidth": 2
          }
         }
        },
        "title": {
         "automargin": false,
         "font": {
          "family": "Arial",
          "size": 30
         },
         "text": "Élections européennes 2019 : résultats totaux",
         "x": 0.43,
         "xanchor": "center",
         "y": 0.88,
         "yanchor": "top"
        },
        "xaxis": {
         "title": {
          "font": {
           "size": 20
          },
          "text": "% du nombre d'inscrits"
         }
        },
        "yaxis": {
         "autorange": "reversed",
         "title": {
          "font": {
           "size": 20
          },
          "text": "Bureaux de vote de Vernon"
         }
        }
       }
      }
     },
     "metadata": {},
     "output_type": "display_data"
    }
   ],
   "source": [
    "\n",
    "manon_2019_resultats_inscrits = \"{:3.1f}\".format(100*manon_2019['Voix'].sum() / manon_2019['Inscrits'].sum())\n",
    "glucks_2019_resultats_inscrits = \"{:3.1f}\".format(100*glucks_2019['Voix'].sum() / glucks_2019['Inscrits'].sum())\n",
    "bardella_2019_resultats_inscrits = \"{:3.1f}\".format(100*bardella_2019['Voix'].sum() / bardella_2019['Inscrits'].sum())\n",
    "macron_2019_resultats_inscrits = \"{:3.1f}\".format(100*macron_2019['Voix'].sum() / macron_2019['Inscrits'].sum())\n",
    "ecolo_2019_resultats_inscrits = \"{:3.1f}\".format(100*ecolo_2019['Voix'].sum() / ecolo_2019['Inscrits'].sum())\n",
    "lr_2019_resultats_inscrits = \"{:3.1f}\".format(100*lr_2019['Voix'].sum() / lr_2019['Inscrits'].sum())\n",
    "\n",
    "autres_2019_resultats_inscrits = \"{:3.1f}\".format(100*df_autres2019['Voix'].sum() / df_autres2019['Inscrits'].unique().sum())\n",
    "\n",
    "fig = go.Figure()\n",
    "fig.add_trace(go.Bar(\n",
    "    y=manon_2019[\"Code du b.vote_df1\"],\n",
    "    x=100*(manon_2019['Voix']/manon_2019['Inscrits']),\n",
    "    name='AUBRY Manon (' + manon_2019_resultats_inscrits +'% des inscrits)',\n",
    "    orientation='h',\n",
    "    marker=dict(\n",
    "        color='crimson',#'rgba(206, 14, 31, 0.9)', 'rgba(128, 1, 1, 1.0)'\n",
    "        line=dict(color='darkred', width=3)\n",
    "    )\n",
    "))\n",
    "fig.add_trace(go.Bar( \n",
    "    y=glucks_2019[\"Code du b.vote_df1\"],\n",
    "    x=100*(glucks_2019['Voix']/glucks_2019['Inscrits']),\n",
    "    name='GLUCKSMANN Raphaël (' + glucks_2019_resultats_inscrits +'% des inscrits)',\n",
    "    orientation='h',\n",
    "    marker=dict(\n",
    "        color='lightpink',#'\n",
    "        line=dict(color='deeppink', width=3)\n",
    "    )\n",
    "))\n",
    "fig.add_trace(go.Bar( \n",
    "    y=ecolo_2019[\"Code du b.vote_df1\"],\n",
    "    x=100*(ecolo_2019['Voix']/ecolo_2019['Inscrits']),\n",
    "    name='JADOT Yannick (' + ecolo_2019_resultats_inscrits +'% des inscrits)',\n",
    "    orientation='h',\n",
    "    marker=dict(\n",
    "        color='lightgreen',#'\n",
    "        line=dict(color='green', width=3)\n",
    "    )\n",
    "))\n",
    "fig.add_trace(go.Bar( \n",
    "    y=macron_2019[\"Code du b.vote_df1\"],\n",
    "    x=100*(macron_2019['Voix']/macron_2019['Inscrits']),\n",
    "    name='LOISEAU Nathalie (' + macron_2019_resultats_inscrits +'% des inscrits)',\n",
    "    orientation='h',\n",
    "    marker=dict(\n",
    "        color='gold',#'\n",
    "        line=dict(color='yellow', width=3)\n",
    "    )\n",
    "))\n",
    "fig.add_trace(go.Bar( \n",
    "    y=lr_2019[\"Code du b.vote_df1\"],\n",
    "    x=100*(lr_2019['Voix']/lr_2019['Inscrits']),\n",
    "    name='BELLAMY François-Xavier (' + lr_2019_resultats_inscrits +'% des inscrits)',\n",
    "    orientation='h',\n",
    "    marker=dict(\n",
    "        color='lightskyblue',#'\n",
    "        line=dict(color='dodgerblue', width=3)\n",
    "    )\n",
    "))\n",
    "fig.add_trace(go.Bar( # \n",
    "    y=bardella_2019[\"Code du b.vote_df1\"],\n",
    "    x=100*(bardella_2019['Voix']/bardella_2019['Inscrits']),\n",
    "    name='BARDELLA Jordan (' + bardella_2019_resultats_inscrits +'% des inscrits)',\n",
    "    orientation='h',\n",
    "    marker=dict(\n",
    "        color='navy',#'rgba(10, 1, 150, 0.8)','rgba(4, 2, 136, 1.0)'\n",
    "        line=dict(color='midnightblue', width=3)\n",
    "    )\n",
    "))\n",
    "fig.add_trace(go.Bar( # bloc lib\n",
    "    y=populaire_2019[\"Code du b.vote_df1\"],\n",
    "    x=100*df_autres2019['Voix'],\n",
    "    name='Autres (' + bloc_reste_2019 +'% des inscrits)',\n",
    "    orientation='h',\n",
    "    marker=dict(\n",
    "        color='rgba(204, 204, 204, 0.9)',\n",
    "        line=dict(color='rgba(58, 71, 80, 0.9)', width=3)\n",
    "    )\n",
    "))\n",
    "fig.add_trace(go.Bar( # bloc lib\n",
    "    y=populaire_2019[\"Code du b.vote_df1\"],\n",
    "    x=100*abs_2019,\n",
    "    name='Abstentions (' + abst_2019 +'% des inscrits)',\n",
    "    orientation='h',\n",
    "    marker=dict(\n",
    "        color='rgba(84, 84, 84, 0.9)',\n",
    "        line=dict(color='rgba(58, 71, 80, 1.0)', width=3)\n",
    "    )\n",
    "))\n",
    "\n",
    "fig.update_yaxes(\n",
    "    autorange='reversed'\n",
    ")\n",
    "xaxis_t = \"% du nombre d'inscrits\"\n",
    "yaxis_t = \"Bureaux de vote de \"+str(resultats_Vernon_2019[\"Libellé de la commune\"][0])\n",
    "fig.update_layout(\n",
    "    barmode='stack',\n",
    "    yaxis_title=dict(text=yaxis_t,font=dict(size=20)),\n",
    "    xaxis_title=dict(text=xaxis_t,font=dict(size=20)),\n",
    "    title_font_family=\"Arial\",\n",
    "    title_font_size=26,\n",
    "    title=dict(text=\"Élections européennes 2019 : résultats totaux\", font=dict(size=30), automargin=False,y=0.88,x=0.43,\n",
    "        xanchor= 'center',\n",
    "        yanchor= 'top'),\n",
    "    legend_title=dict(text=\"Légende\",font=dict(size=18))\n",
    "    )\n"
   ]
  },
  {
   "cell_type": "markdown",
   "metadata": {},
   "source": [
    "Même manoeuvre avec 2024 ! On se déporte progressivement de la vue en blocs, qui ne s'applique pas vraiment aux européennes."
   ]
  },
  {
   "cell_type": "code",
   "execution_count": 301,
   "metadata": {},
   "outputs": [
    {
     "data": {
      "text/plain": [
       "array(['HUMANITE SOUVERAINE',\n",
       "       'POUR UNE DEMOCRATIE REELLE : DECIDONS NOUS-MEMES !',\n",
       "       'LA FRANCE FIERE, MENEE PAR MARION MARECHAL ET SOUTENUE PAR ÉRIC ZEMMOUR',\n",
       "       'LFI - UP', 'La FRANCE REVIENT', 'EUROPE ÉCOLOGIE',\n",
       "       'FREE PALESTINE', 'PARTI ANIMALISTE',\n",
       "       'PARTI REVOLUTIONNAIRE COMMUNISTES', 'PARTI PIRATE',\n",
       "       \"BESOIN D'EUROPE\", 'PACE', 'ÉQUINOXE', 'ECOLOGIE POSITIVE',\n",
       "       'LISTE ASSELINEAU-FREXIT', 'PAIX ET DECROISSANCE',\n",
       "       'POUR UNE AUTRE EUROPE',\n",
       "       'LA DROITE POUR FAIRE ENTENDRE LA VOIX DE LA FRANCE EN EUROPE',\n",
       "       'LUTTE OUVRIERE', \"CHANGER L'EUROPE\", 'NLP',\n",
       "       'URGENCE REVOLUTION !', 'PPL', \"L'EUROPE CA SUFFIT !\",\n",
       "       'PRENONS-NOUS EN MAIN', 'FORTERESSE EUROPE', 'REVEIL EUR',\n",
       "       \"NON À L'UE ET À L'OTAN, COMMUNISTES POUR LA PAIX ET LE PROGRÈS SOCIAL\",\n",
       "       'AR', 'FRANCE LIBRE', 'EUROPE TERRITOIRES ÉCOLOGIE',\n",
       "       'LA RUCHE CITOYENNE', 'GAUCHE UNIE', 'DEFENDRE LES ENFANTS', 'EAC',\n",
       "       'DEMOCRATIE REPRESENTATIVE', 'ESPERANTO',\n",
       "       'LIBERTÉ DÉMOCRATIQUE FRANÇAISE'], dtype=object)"
      ]
     },
     "execution_count": 301,
     "metadata": {},
     "output_type": "execute_result"
    }
   ],
   "source": [
    "manon_2024 = df_2024_e[df_2024_e['Nuance'] == 'LFI']\n",
    "bardella_2024 = df_2024_e[df_2024_e['Nuance'] == 'LRN']\n",
    "macron_2024 = df_2024_e[df_2024_e['Nuance'] == 'LENS']\n",
    "glucks_2024 = df_2024_e[df_2024_e['Nuance'] == 'LUG']\n",
    "z_2024 = df_2024_e[df_2024_e['Nuance'] == 'LREC']\n",
    "\n",
    "ug_2024 = df_2024_e[(df_2024_e['Libellé Abrégé Liste'] == 'LFI - UP') \n",
    "                         | (df_2024_e['Libellé Abrégé Liste'] == 'REVEIL EUR')\n",
    "                         | (df_2024_e['Libellé Abrégé Liste'] == 'EUROPE ÉCOLOGIE')\n",
    "                         | (df_2024_e['Libellé Abrégé Liste'] == 'GAUCHE UNIE')] # dataset union de la gauche\n",
    "\n"
   ]
  }
 ],
 "metadata": {
  "kernelspec": {
   "display_name": "Python 3",
   "language": "python",
   "name": "python3"
  },
  "language_info": {
   "codemirror_mode": {
    "name": "ipython",
    "version": 3
   },
   "file_extension": ".py",
   "mimetype": "text/x-python",
   "name": "python",
   "nbconvert_exporter": "python",
   "pygments_lexer": "ipython3",
   "version": "3.9.6"
  }
 },
 "nbformat": 4,
 "nbformat_minor": 2
}
